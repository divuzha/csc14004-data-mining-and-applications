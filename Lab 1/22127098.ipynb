{
 "cells": [
  {
   "cell_type": "markdown",
   "metadata": {},
   "source": [
    "# Lab 1 - Preprocessing\n",
    "\n",
    "Name: Đinh Vũ Gia Hân \n",
    "\n",
    "Class: 22KHMT2\n",
    "\n",
    "ID: 22127098 "
   ]
  },
  {
   "cell_type": "markdown",
   "metadata": {},
   "source": [
    "# Self-evaluation\n",
    "\n",
    "| No.   | Details                                       | Level of completion     |\n",
    "|-------|-----------------------------------------------|-------------------------|\n",
    "| 1     | Data cleaning                                 | 25%                     |\n",
    "| 2     | Dimensionality Reduction                      | 25%                     |\n",
    "| 3     | Data Normalization                            | 25%                     |\n",
    "| 4     | Data Discretization                           | 25%                     |\n",
    "|       | Total                                         | 100%                    |"
   ]
  },
  {
   "cell_type": "markdown",
   "metadata": {},
   "source": [
    "# About Dataset\n",
    "\n",
    "**Dataset information:**\n",
    "\n",
    "The *Adult Census Incom* dataset was obtained from UCI Machine Learning Repository. The goal of this dataset is to predict if an individual's annual income exceeds $50,000 based on demographic characteristics.\n",
    "\n",
    "**Attribute information:**\n",
    "- `age`: The age of the individual.\n",
    "- `workclass`: The type of employment (e.g., Private, Government, Self-employed, etc.).\n",
    "- `fnlwgt`: The final weight of the survey.\n",
    "- `education`: The level of education.\n",
    "- `education-num`: The number of years of education, in integer form.\n",
    "- `marital-status`: Marital status (single, married, divorced, etc.).\n",
    "- `occupation`: Occupation (Managerial, Clerical, Service, etc.).\n",
    "- `relationship`: Relationship to the household (spouse, child, other relative, etc.).\n",
    "- `race`: Race.\n",
    "- `sex`: Gender.\n",
    "- `capital-gain`: Income from capital (not from wages).\n",
    "- `capital-loss`: Loss from capital (from investments).\n",
    "- `hours-per-week`: The number of hours worked per week.\n",
    "- `native-country`: Country of origin.\n",
    "- `income` (target variable): Representing the individual's income.\n"
   ]
  },
  {
   "cell_type": "markdown",
   "metadata": {},
   "source": [
    "# Import neccessary library\n",
    "\n",
    "This lab use the following libraries:\n",
    "- **numpy**: for matrix operations and numerical processing\n",
    "- **pandas**: for tabular data manipulation\n",
    "- **mathplotlib**: for plotting data\n",
    "- **seaborn**: for data visualization\n",
    "- **warnings**: for ignoring warnings when plotting data "
   ]
  },
  {
   "cell_type": "code",
   "execution_count": 1,
   "metadata": {},
   "outputs": [],
   "source": [
    "# import libraries\n",
    "import numpy as np                  \n",
    "import pandas as pd                 \n",
    "import matplotlib.pyplot as plt  \n",
    "import seaborn as sns             \n",
    "import warnings                  \n",
    "warnings.filterwarnings('ignore') "
   ]
  },
  {
   "cell_type": "markdown",
   "metadata": {},
   "source": [
    "# Read dataset\n",
    "\n",
    "First, we use pandas.read_csv() to read the data in tabular format from file adult.data and save it as `dataset`. Then, we make a copy named `df` of `dataset`, which will be preprocessed."
   ]
  },
  {
   "cell_type": "code",
   "execution_count": 2,
   "metadata": {},
   "outputs": [],
   "source": [
    "# define column names\n",
    "column_names = [\"age\", \"workclass\", \"fnlwgt\", \"education\", \"education-num\", \"marital-status\", \"occupation\", \"relationship\",\n",
    "                \"race\", \"sex\", \"capital-gain\", \"capital-loss\", \"hours-per-week\", \"native-country\", \"income\"]\n",
    "\n",
    "# load the dataset with these column names\n",
    "dataset = pd.read_csv(\"adult.data\", header = None, names = column_names)\n",
    "\n",
    "# make a copy of the dataset\n",
    "df = dataset.copy()"
   ]
  },
  {
   "cell_type": "code",
   "execution_count": 3,
   "metadata": {},
   "outputs": [
    {
     "data": {
      "text/html": [
       "<div>\n",
       "<style scoped>\n",
       "    .dataframe tbody tr th:only-of-type {\n",
       "        vertical-align: middle;\n",
       "    }\n",
       "\n",
       "    .dataframe tbody tr th {\n",
       "        vertical-align: top;\n",
       "    }\n",
       "\n",
       "    .dataframe thead th {\n",
       "        text-align: right;\n",
       "    }\n",
       "</style>\n",
       "<table border=\"1\" class=\"dataframe\">\n",
       "  <thead>\n",
       "    <tr style=\"text-align: right;\">\n",
       "      <th></th>\n",
       "      <th>age</th>\n",
       "      <th>workclass</th>\n",
       "      <th>fnlwgt</th>\n",
       "      <th>education</th>\n",
       "      <th>education-num</th>\n",
       "      <th>marital-status</th>\n",
       "      <th>occupation</th>\n",
       "      <th>relationship</th>\n",
       "      <th>race</th>\n",
       "      <th>sex</th>\n",
       "      <th>capital-gain</th>\n",
       "      <th>capital-loss</th>\n",
       "      <th>hours-per-week</th>\n",
       "      <th>native-country</th>\n",
       "      <th>income</th>\n",
       "    </tr>\n",
       "  </thead>\n",
       "  <tbody>\n",
       "    <tr>\n",
       "      <th>0</th>\n",
       "      <td>39</td>\n",
       "      <td>State-gov</td>\n",
       "      <td>77516</td>\n",
       "      <td>Bachelors</td>\n",
       "      <td>13</td>\n",
       "      <td>Never-married</td>\n",
       "      <td>Adm-clerical</td>\n",
       "      <td>Not-in-family</td>\n",
       "      <td>White</td>\n",
       "      <td>Male</td>\n",
       "      <td>2174</td>\n",
       "      <td>0</td>\n",
       "      <td>40</td>\n",
       "      <td>United-States</td>\n",
       "      <td>&lt;=50K</td>\n",
       "    </tr>\n",
       "    <tr>\n",
       "      <th>1</th>\n",
       "      <td>50</td>\n",
       "      <td>Self-emp-not-inc</td>\n",
       "      <td>83311</td>\n",
       "      <td>Bachelors</td>\n",
       "      <td>13</td>\n",
       "      <td>Married-civ-spouse</td>\n",
       "      <td>Exec-managerial</td>\n",
       "      <td>Husband</td>\n",
       "      <td>White</td>\n",
       "      <td>Male</td>\n",
       "      <td>0</td>\n",
       "      <td>0</td>\n",
       "      <td>13</td>\n",
       "      <td>United-States</td>\n",
       "      <td>&lt;=50K</td>\n",
       "    </tr>\n",
       "    <tr>\n",
       "      <th>2</th>\n",
       "      <td>38</td>\n",
       "      <td>Private</td>\n",
       "      <td>215646</td>\n",
       "      <td>HS-grad</td>\n",
       "      <td>9</td>\n",
       "      <td>Divorced</td>\n",
       "      <td>Handlers-cleaners</td>\n",
       "      <td>Not-in-family</td>\n",
       "      <td>White</td>\n",
       "      <td>Male</td>\n",
       "      <td>0</td>\n",
       "      <td>0</td>\n",
       "      <td>40</td>\n",
       "      <td>United-States</td>\n",
       "      <td>&lt;=50K</td>\n",
       "    </tr>\n",
       "    <tr>\n",
       "      <th>3</th>\n",
       "      <td>53</td>\n",
       "      <td>Private</td>\n",
       "      <td>234721</td>\n",
       "      <td>11th</td>\n",
       "      <td>7</td>\n",
       "      <td>Married-civ-spouse</td>\n",
       "      <td>Handlers-cleaners</td>\n",
       "      <td>Husband</td>\n",
       "      <td>Black</td>\n",
       "      <td>Male</td>\n",
       "      <td>0</td>\n",
       "      <td>0</td>\n",
       "      <td>40</td>\n",
       "      <td>United-States</td>\n",
       "      <td>&lt;=50K</td>\n",
       "    </tr>\n",
       "    <tr>\n",
       "      <th>4</th>\n",
       "      <td>28</td>\n",
       "      <td>Private</td>\n",
       "      <td>338409</td>\n",
       "      <td>Bachelors</td>\n",
       "      <td>13</td>\n",
       "      <td>Married-civ-spouse</td>\n",
       "      <td>Prof-specialty</td>\n",
       "      <td>Wife</td>\n",
       "      <td>Black</td>\n",
       "      <td>Female</td>\n",
       "      <td>0</td>\n",
       "      <td>0</td>\n",
       "      <td>40</td>\n",
       "      <td>Cuba</td>\n",
       "      <td>&lt;=50K</td>\n",
       "    </tr>\n",
       "  </tbody>\n",
       "</table>\n",
       "</div>"
      ],
      "text/plain": [
       "   age          workclass  fnlwgt   education  education-num  \\\n",
       "0   39          State-gov   77516   Bachelors             13   \n",
       "1   50   Self-emp-not-inc   83311   Bachelors             13   \n",
       "2   38            Private  215646     HS-grad              9   \n",
       "3   53            Private  234721        11th              7   \n",
       "4   28            Private  338409   Bachelors             13   \n",
       "\n",
       "        marital-status          occupation    relationship    race      sex  \\\n",
       "0        Never-married        Adm-clerical   Not-in-family   White     Male   \n",
       "1   Married-civ-spouse     Exec-managerial         Husband   White     Male   \n",
       "2             Divorced   Handlers-cleaners   Not-in-family   White     Male   \n",
       "3   Married-civ-spouse   Handlers-cleaners         Husband   Black     Male   \n",
       "4   Married-civ-spouse      Prof-specialty            Wife   Black   Female   \n",
       "\n",
       "   capital-gain  capital-loss  hours-per-week  native-country  income  \n",
       "0          2174             0              40   United-States   <=50K  \n",
       "1             0             0              13   United-States   <=50K  \n",
       "2             0             0              40   United-States   <=50K  \n",
       "3             0             0              40   United-States   <=50K  \n",
       "4             0             0              40            Cuba   <=50K  "
      ]
     },
     "execution_count": 3,
     "metadata": {},
     "output_type": "execute_result"
    }
   ],
   "source": [
    "# print the first 5 rows of the dataset\n",
    "df.head()"
   ]
  },
  {
   "cell_type": "code",
   "execution_count": 4,
   "metadata": {},
   "outputs": [
    {
     "data": {
      "text/html": [
       "<div>\n",
       "<style scoped>\n",
       "    .dataframe tbody tr th:only-of-type {\n",
       "        vertical-align: middle;\n",
       "    }\n",
       "\n",
       "    .dataframe tbody tr th {\n",
       "        vertical-align: top;\n",
       "    }\n",
       "\n",
       "    .dataframe thead th {\n",
       "        text-align: right;\n",
       "    }\n",
       "</style>\n",
       "<table border=\"1\" class=\"dataframe\">\n",
       "  <thead>\n",
       "    <tr style=\"text-align: right;\">\n",
       "      <th></th>\n",
       "      <th>age</th>\n",
       "      <th>workclass</th>\n",
       "      <th>fnlwgt</th>\n",
       "      <th>education</th>\n",
       "      <th>education-num</th>\n",
       "      <th>marital-status</th>\n",
       "      <th>occupation</th>\n",
       "      <th>relationship</th>\n",
       "      <th>race</th>\n",
       "      <th>sex</th>\n",
       "      <th>capital-gain</th>\n",
       "      <th>capital-loss</th>\n",
       "      <th>hours-per-week</th>\n",
       "      <th>native-country</th>\n",
       "      <th>income</th>\n",
       "    </tr>\n",
       "  </thead>\n",
       "  <tbody>\n",
       "    <tr>\n",
       "      <th>32556</th>\n",
       "      <td>27</td>\n",
       "      <td>Private</td>\n",
       "      <td>257302</td>\n",
       "      <td>Assoc-acdm</td>\n",
       "      <td>12</td>\n",
       "      <td>Married-civ-spouse</td>\n",
       "      <td>Tech-support</td>\n",
       "      <td>Wife</td>\n",
       "      <td>White</td>\n",
       "      <td>Female</td>\n",
       "      <td>0</td>\n",
       "      <td>0</td>\n",
       "      <td>38</td>\n",
       "      <td>United-States</td>\n",
       "      <td>&lt;=50K</td>\n",
       "    </tr>\n",
       "    <tr>\n",
       "      <th>32557</th>\n",
       "      <td>40</td>\n",
       "      <td>Private</td>\n",
       "      <td>154374</td>\n",
       "      <td>HS-grad</td>\n",
       "      <td>9</td>\n",
       "      <td>Married-civ-spouse</td>\n",
       "      <td>Machine-op-inspct</td>\n",
       "      <td>Husband</td>\n",
       "      <td>White</td>\n",
       "      <td>Male</td>\n",
       "      <td>0</td>\n",
       "      <td>0</td>\n",
       "      <td>40</td>\n",
       "      <td>United-States</td>\n",
       "      <td>&gt;50K</td>\n",
       "    </tr>\n",
       "    <tr>\n",
       "      <th>32558</th>\n",
       "      <td>58</td>\n",
       "      <td>Private</td>\n",
       "      <td>151910</td>\n",
       "      <td>HS-grad</td>\n",
       "      <td>9</td>\n",
       "      <td>Widowed</td>\n",
       "      <td>Adm-clerical</td>\n",
       "      <td>Unmarried</td>\n",
       "      <td>White</td>\n",
       "      <td>Female</td>\n",
       "      <td>0</td>\n",
       "      <td>0</td>\n",
       "      <td>40</td>\n",
       "      <td>United-States</td>\n",
       "      <td>&lt;=50K</td>\n",
       "    </tr>\n",
       "    <tr>\n",
       "      <th>32559</th>\n",
       "      <td>22</td>\n",
       "      <td>Private</td>\n",
       "      <td>201490</td>\n",
       "      <td>HS-grad</td>\n",
       "      <td>9</td>\n",
       "      <td>Never-married</td>\n",
       "      <td>Adm-clerical</td>\n",
       "      <td>Own-child</td>\n",
       "      <td>White</td>\n",
       "      <td>Male</td>\n",
       "      <td>0</td>\n",
       "      <td>0</td>\n",
       "      <td>20</td>\n",
       "      <td>United-States</td>\n",
       "      <td>&lt;=50K</td>\n",
       "    </tr>\n",
       "    <tr>\n",
       "      <th>32560</th>\n",
       "      <td>52</td>\n",
       "      <td>Self-emp-inc</td>\n",
       "      <td>287927</td>\n",
       "      <td>HS-grad</td>\n",
       "      <td>9</td>\n",
       "      <td>Married-civ-spouse</td>\n",
       "      <td>Exec-managerial</td>\n",
       "      <td>Wife</td>\n",
       "      <td>White</td>\n",
       "      <td>Female</td>\n",
       "      <td>15024</td>\n",
       "      <td>0</td>\n",
       "      <td>40</td>\n",
       "      <td>United-States</td>\n",
       "      <td>&gt;50K</td>\n",
       "    </tr>\n",
       "  </tbody>\n",
       "</table>\n",
       "</div>"
      ],
      "text/plain": [
       "       age      workclass  fnlwgt    education  education-num  \\\n",
       "32556   27        Private  257302   Assoc-acdm             12   \n",
       "32557   40        Private  154374      HS-grad              9   \n",
       "32558   58        Private  151910      HS-grad              9   \n",
       "32559   22        Private  201490      HS-grad              9   \n",
       "32560   52   Self-emp-inc  287927      HS-grad              9   \n",
       "\n",
       "            marital-status          occupation relationship    race      sex  \\\n",
       "32556   Married-civ-spouse        Tech-support         Wife   White   Female   \n",
       "32557   Married-civ-spouse   Machine-op-inspct      Husband   White     Male   \n",
       "32558              Widowed        Adm-clerical    Unmarried   White   Female   \n",
       "32559        Never-married        Adm-clerical    Own-child   White     Male   \n",
       "32560   Married-civ-spouse     Exec-managerial         Wife   White   Female   \n",
       "\n",
       "       capital-gain  capital-loss  hours-per-week  native-country  income  \n",
       "32556             0             0              38   United-States   <=50K  \n",
       "32557             0             0              40   United-States    >50K  \n",
       "32558             0             0              40   United-States   <=50K  \n",
       "32559             0             0              20   United-States   <=50K  \n",
       "32560         15024             0              40   United-States    >50K  "
      ]
     },
     "execution_count": 4,
     "metadata": {},
     "output_type": "execute_result"
    }
   ],
   "source": [
    "# print the last 5 rows of the dataset\n",
    "df.tail()"
   ]
  },
  {
   "cell_type": "markdown",
   "metadata": {},
   "source": [
    "# Santity check of data"
   ]
  },
  {
   "cell_type": "code",
   "execution_count": 5,
   "metadata": {},
   "outputs": [
    {
     "data": {
      "text/plain": [
       "(32561, 15)"
      ]
     },
     "execution_count": 5,
     "metadata": {},
     "output_type": "execute_result"
    }
   ],
   "source": [
    "# print the shape of the dataset\n",
    "df.shape"
   ]
  },
  {
   "cell_type": "code",
   "execution_count": 6,
   "metadata": {},
   "outputs": [
    {
     "name": "stdout",
     "output_type": "stream",
     "text": [
      "<class 'pandas.core.frame.DataFrame'>\n",
      "RangeIndex: 32561 entries, 0 to 32560\n",
      "Data columns (total 15 columns):\n",
      " #   Column          Non-Null Count  Dtype \n",
      "---  ------          --------------  ----- \n",
      " 0   age             32561 non-null  int64 \n",
      " 1   workclass       32561 non-null  object\n",
      " 2   fnlwgt          32561 non-null  int64 \n",
      " 3   education       32561 non-null  object\n",
      " 4   education-num   32561 non-null  int64 \n",
      " 5   marital-status  32561 non-null  object\n",
      " 6   occupation      32561 non-null  object\n",
      " 7   relationship    32561 non-null  object\n",
      " 8   race            32561 non-null  object\n",
      " 9   sex             32561 non-null  object\n",
      " 10  capital-gain    32561 non-null  int64 \n",
      " 11  capital-loss    32561 non-null  int64 \n",
      " 12  hours-per-week  32561 non-null  int64 \n",
      " 13  native-country  32561 non-null  object\n",
      " 14  income          32561 non-null  object\n",
      "dtypes: int64(6), object(9)\n",
      "memory usage: 3.7+ MB\n"
     ]
    }
   ],
   "source": [
    "# print the column types of the dataset\n",
    "df.info()"
   ]
  },
  {
   "cell_type": "code",
   "execution_count": 7,
   "metadata": {},
   "outputs": [
    {
     "name": "stdout",
     "output_type": "stream",
     "text": [
      "age [39 50 38 53 28 37 49 52 31 42 30 23 32 40 34 25 43 54 35 59 56 19 20 45\n",
      " 22 48 21 24 57 44 41 29 18 47 46 36 79 27 67 33 76 17 55 61 70 64 71 68\n",
      " 66 51 58 26 60 90 75 65 77 62 63 80 72 74 69 73 81 78 88 82 83 84 85 86\n",
      " 87]\n",
      "workclass [' State-gov' ' Self-emp-not-inc' ' Private' ' Federal-gov' ' Local-gov'\n",
      " ' ?' ' Self-emp-inc' ' Without-pay' ' Never-worked']\n",
      "fnlwgt [ 77516  83311 215646 ...  34066  84661 257302]\n",
      "education [' Bachelors' ' HS-grad' ' 11th' ' Masters' ' 9th' ' Some-college'\n",
      " ' Assoc-acdm' ' Assoc-voc' ' 7th-8th' ' Doctorate' ' Prof-school'\n",
      " ' 5th-6th' ' 10th' ' 1st-4th' ' Preschool' ' 12th']\n",
      "education-num [13  9  7 14  5 10 12 11  4 16 15  3  6  2  1  8]\n",
      "marital-status [' Never-married' ' Married-civ-spouse' ' Divorced'\n",
      " ' Married-spouse-absent' ' Separated' ' Married-AF-spouse' ' Widowed']\n",
      "occupation [' Adm-clerical' ' Exec-managerial' ' Handlers-cleaners' ' Prof-specialty'\n",
      " ' Other-service' ' Sales' ' Craft-repair' ' Transport-moving'\n",
      " ' Farming-fishing' ' Machine-op-inspct' ' Tech-support' ' ?'\n",
      " ' Protective-serv' ' Armed-Forces' ' Priv-house-serv']\n",
      "relationship [' Not-in-family' ' Husband' ' Wife' ' Own-child' ' Unmarried'\n",
      " ' Other-relative']\n",
      "race [' White' ' Black' ' Asian-Pac-Islander' ' Amer-Indian-Eskimo' ' Other']\n",
      "sex [' Male' ' Female']\n",
      "capital-gain [ 2174     0 14084  5178  5013  2407 14344 15024  7688 34095  4064  4386\n",
      "  7298  1409  3674  1055  3464  2050  2176   594 20051  6849  4101  1111\n",
      "  8614  3411  2597 25236  4650  9386  2463  3103 10605  2964  3325  2580\n",
      "  3471  4865 99999  6514  1471  2329  2105  2885 25124 10520  2202  2961\n",
      " 27828  6767  2228  1506 13550  2635  5556  4787  3781  3137  3818  3942\n",
      "   914   401  2829  2977  4934  2062  2354  5455 15020  1424  3273 22040\n",
      "  4416  3908 10566   991  4931  1086  7430  6497   114  7896  2346  3418\n",
      "  3432  2907  1151  2414  2290 15831 41310  4508  2538  3456  6418  1848\n",
      "  3887  5721  9562  1455  2036  1831 11678  2936  2993  7443  6360  1797\n",
      "  1173  4687  6723  2009  6097  2653  1639 18481  7978  2387  5060]\n",
      "capital-loss [   0 2042 1408 1902 1573 1887 1719 1762 1564 2179 1816 1980 1977 1876\n",
      " 1340 2206 1741 1485 2339 2415 1380 1721 2051 2377 1669 2352 1672  653\n",
      " 2392 1504 2001 1590 1651 1628 1848 1740 2002 1579 2258 1602  419 2547\n",
      " 2174 2205 1726 2444 1138 2238  625  213 1539  880 1668 1092 1594 3004\n",
      " 2231 1844  810 2824 2559 2057 1974  974 2149 1825 1735 1258 2129 2603\n",
      " 2282  323 4356 2246 1617 1648 2489 3770 1755 3683 2267 2080 2457  155\n",
      " 3900 2201 1944 2467 2163 2754 2472 1411]\n",
      "hours-per-week [40 13 16 45 50 80 30 35 60 20 52 44 15 25 38 43 55 48 58 32 70  2 22 56\n",
      " 41 28 36 24 46 42 12 65  1 10 34 75 98 33 54  8  6 64 19 18 72  5  9 47\n",
      " 37 21 26 14  4 59  7 99 53 39 62 57 78 90 66 11 49 84  3 17 68 27 85 31\n",
      " 51 77 63 23 87 88 73 89 97 94 29 96 67 82 86 91 81 76 92 61 74 95]\n",
      "native-country [' United-States' ' Cuba' ' Jamaica' ' India' ' ?' ' Mexico' ' South'\n",
      " ' Puerto-Rico' ' Honduras' ' England' ' Canada' ' Germany' ' Iran'\n",
      " ' Philippines' ' Italy' ' Poland' ' Columbia' ' Cambodia' ' Thailand'\n",
      " ' Ecuador' ' Laos' ' Taiwan' ' Haiti' ' Portugal' ' Dominican-Republic'\n",
      " ' El-Salvador' ' France' ' Guatemala' ' China' ' Japan' ' Yugoslavia'\n",
      " ' Peru' ' Outlying-US(Guam-USVI-etc)' ' Scotland' ' Trinadad&Tobago'\n",
      " ' Greece' ' Nicaragua' ' Vietnam' ' Hong' ' Ireland' ' Hungary'\n",
      " ' Holand-Netherlands']\n",
      "income [' <=50K' ' >50K']\n"
     ]
    }
   ],
   "source": [
    "# print the unique values of the columns\n",
    "for column in df.columns:\n",
    "    print(column, df[column].unique())"
   ]
  },
  {
   "cell_type": "markdown",
   "metadata": {},
   "source": [
    "General information:\n",
    "- The dataset has 32561 rows and 15 columns.\n",
    "- There are 6 features of type int64 and 9 features of type object:\n",
    "    - Type int64: age, fnlwgt, education-num, capital-gain, capital-loss and hours-per-week.\n",
    "    - Type object: workclass, education, marital-status, occupation, relationship, race, sex, native-country and income.\n",
    "- There are some features that have '?' data, which is worth noting during preprocessing."
   ]
  },
  {
   "cell_type": "markdown",
   "metadata": {},
   "source": [
    "# Exploratory data analysis (EDA)"
   ]
  },
  {
   "cell_type": "code",
   "execution_count": 8,
   "metadata": {},
   "outputs": [
    {
     "data": {
      "text/html": [
       "<div>\n",
       "<style scoped>\n",
       "    .dataframe tbody tr th:only-of-type {\n",
       "        vertical-align: middle;\n",
       "    }\n",
       "\n",
       "    .dataframe tbody tr th {\n",
       "        vertical-align: top;\n",
       "    }\n",
       "\n",
       "    .dataframe thead th {\n",
       "        text-align: right;\n",
       "    }\n",
       "</style>\n",
       "<table border=\"1\" class=\"dataframe\">\n",
       "  <thead>\n",
       "    <tr style=\"text-align: right;\">\n",
       "      <th></th>\n",
       "      <th>count</th>\n",
       "      <th>mean</th>\n",
       "      <th>std</th>\n",
       "      <th>min</th>\n",
       "      <th>25%</th>\n",
       "      <th>50%</th>\n",
       "      <th>75%</th>\n",
       "      <th>max</th>\n",
       "    </tr>\n",
       "  </thead>\n",
       "  <tbody>\n",
       "    <tr>\n",
       "      <th>age</th>\n",
       "      <td>32561.0</td>\n",
       "      <td>38.581647</td>\n",
       "      <td>13.640433</td>\n",
       "      <td>17.0</td>\n",
       "      <td>28.0</td>\n",
       "      <td>37.0</td>\n",
       "      <td>48.0</td>\n",
       "      <td>90.0</td>\n",
       "    </tr>\n",
       "    <tr>\n",
       "      <th>fnlwgt</th>\n",
       "      <td>32561.0</td>\n",
       "      <td>189778.366512</td>\n",
       "      <td>105549.977697</td>\n",
       "      <td>12285.0</td>\n",
       "      <td>117827.0</td>\n",
       "      <td>178356.0</td>\n",
       "      <td>237051.0</td>\n",
       "      <td>1484705.0</td>\n",
       "    </tr>\n",
       "    <tr>\n",
       "      <th>education-num</th>\n",
       "      <td>32561.0</td>\n",
       "      <td>10.080679</td>\n",
       "      <td>2.572720</td>\n",
       "      <td>1.0</td>\n",
       "      <td>9.0</td>\n",
       "      <td>10.0</td>\n",
       "      <td>12.0</td>\n",
       "      <td>16.0</td>\n",
       "    </tr>\n",
       "    <tr>\n",
       "      <th>capital-gain</th>\n",
       "      <td>32561.0</td>\n",
       "      <td>1077.648844</td>\n",
       "      <td>7385.292085</td>\n",
       "      <td>0.0</td>\n",
       "      <td>0.0</td>\n",
       "      <td>0.0</td>\n",
       "      <td>0.0</td>\n",
       "      <td>99999.0</td>\n",
       "    </tr>\n",
       "    <tr>\n",
       "      <th>capital-loss</th>\n",
       "      <td>32561.0</td>\n",
       "      <td>87.303830</td>\n",
       "      <td>402.960219</td>\n",
       "      <td>0.0</td>\n",
       "      <td>0.0</td>\n",
       "      <td>0.0</td>\n",
       "      <td>0.0</td>\n",
       "      <td>4356.0</td>\n",
       "    </tr>\n",
       "    <tr>\n",
       "      <th>hours-per-week</th>\n",
       "      <td>32561.0</td>\n",
       "      <td>40.437456</td>\n",
       "      <td>12.347429</td>\n",
       "      <td>1.0</td>\n",
       "      <td>40.0</td>\n",
       "      <td>40.0</td>\n",
       "      <td>45.0</td>\n",
       "      <td>99.0</td>\n",
       "    </tr>\n",
       "  </tbody>\n",
       "</table>\n",
       "</div>"
      ],
      "text/plain": [
       "                  count           mean            std      min       25%  \\\n",
       "age             32561.0      38.581647      13.640433     17.0      28.0   \n",
       "fnlwgt          32561.0  189778.366512  105549.977697  12285.0  117827.0   \n",
       "education-num   32561.0      10.080679       2.572720      1.0       9.0   \n",
       "capital-gain    32561.0    1077.648844    7385.292085      0.0       0.0   \n",
       "capital-loss    32561.0      87.303830     402.960219      0.0       0.0   \n",
       "hours-per-week  32561.0      40.437456      12.347429      1.0      40.0   \n",
       "\n",
       "                     50%       75%        max  \n",
       "age                 37.0      48.0       90.0  \n",
       "fnlwgt          178356.0  237051.0  1484705.0  \n",
       "education-num       10.0      12.0       16.0  \n",
       "capital-gain         0.0       0.0    99999.0  \n",
       "capital-loss         0.0       0.0     4356.0  \n",
       "hours-per-week      40.0      45.0       99.0  "
      ]
     },
     "execution_count": 8,
     "metadata": {},
     "output_type": "execute_result"
    }
   ],
   "source": [
    "# print the summary statistics of the dataset\n",
    "df.describe().T"
   ]
  },
  {
   "cell_type": "code",
   "execution_count": 9,
   "metadata": {},
   "outputs": [
    {
     "data": {
      "image/png": "[encoded data removed]",
      "text/plain": [
       "<Figure size 640x480 with 1 Axes>"
      ]
     },
     "metadata": {},
     "output_type": "display_data"
    },
    {
     "data": {
      "image/png": "[encoded data removed]",
      "text/plain": [
       "<Figure size 640x480 with 1 Axes>"
      ]
     },
     "metadata": {},
     "output_type": "display_data"
    },
    {
     "data": {
      "image/png": "[encoded data removed]",
      "text/plain": [
       "<Figure size 640x480 with 1 Axes>"
      ]
     },
     "metadata": {},
     "output_type": "display_data"
    },
    {
     "data": {
      "image/png": "[encoded data removed]",
      "text/plain": [
       "<Figure size 640x480 with 1 Axes>"
      ]
     },
     "metadata": {},
     "output_type": "display_data"
    },
    {
     "data": {
      "image/png": "[encoded data removed]",
      "text/plain": [
       "<Figure size 640x480 with 1 Axes>"
      ]
     },
     "metadata": {},
     "output_type": "display_data"
    },
    {
     "data": {
      "image/png": "[encoded data removed]",
      "text/plain": [
       "<Figure size 640x480 with 1 Axes>"
      ]
     },
     "metadata": {},
     "output_type": "display_data"
    }
   ],
   "source": [
    "# histogram to understand the distribution \n",
    "for i in df.select_dtypes(include = 'number').columns:\n",
    "    sns.histplot(data = df, x = i)\n",
    "    plt.show()"
   ]
  },
  {
   "cell_type": "code",
   "execution_count": 10,
   "metadata": {},
   "outputs": [
    {
     "data": {
      "image/png": "[encoded data removed]",
      "text/plain": [
       "<Figure size 640x480 with 1 Axes>"
      ]
     },
     "metadata": {},
     "output_type": "display_data"
    },
    {
     "data": {
      "image/png": "[encoded data removed]",
      "text/plain": [
       "<Figure size 640x480 with 1 Axes>"
      ]
     },
     "metadata": {},
     "output_type": "display_data"
    },
    {
     "data": {
      "image/png": "[encoded data removed]",
      "text/plain": [
       "<Figure size 640x480 with 1 Axes>"
      ]
     },
     "metadata": {},
     "output_type": "display_data"
    },
    {
     "data": {
      "image/png": "[encoded data removed]",
      "text/plain": [
       "<Figure size 640x480 with 1 Axes>"
      ]
     },
     "metadata": {},
     "output_type": "display_data"
    },
    {
     "data": {
      "image/png": "[encoded data removed]",
      "text/plain": [
       "<Figure size 640x480 with 1 Axes>"
      ]
     },
     "metadata": {},
     "output_type": "display_data"
    },
    {
     "data": {
      "image/png": "[encoded data removed]",
      "text/plain": [
       "<Figure size 640x480 with 1 Axes>"
      ]
     },
     "metadata": {},
     "output_type": "display_data"
    }
   ],
   "source": [
    "# boxplot to understand the distribution\n",
    "for i in df.select_dtypes(include = 'number').columns:\n",
    "    sns.boxplot(data = df, x = i)\n",
    "    plt.show()"
   ]
  },
  {
   "cell_type": "markdown",
   "metadata": {},
   "source": [
    "Breakdown of variables:\n",
    "- age:\n",
    "    - The average age is 38.6 years old.\n",
    "    - The youngest person is 17, and the oldest is 90.\n",
    "    - The distribution seems somewhat right-skewed, with more people in the lower age ranges.\n",
    "- fnlwgt:\n",
    "    - The mean is 189778.37, but the standard deviation is quite large (105549.98), indicating a wide range of values.\n",
    "- education-num:\n",
    "    - The average is 10.08 years.\n",
    "    - The distribution is slightly right-skewed, with most people completing high school (12 years) or less.\n",
    "- capital-gain:\n",
    "    - The mean is 1077.65, but the maximum value is 99999, suggesting outliers or potential data issues.\n",
    "- capital-loss:\n",
    "    - The mean is 87.30, with the maximum loss being 4356.\n",
    "- hours-per-week:\n",
    "    - The average number of hours worked per week is 40.44.\n",
    "    - The distribution is likely right-skewed, with most people working a standard 40-hour week.\n",
    "\n",
    "In conclusion:\n",
    "- The large standard deviations in some columns suggest potential outliers or a wide range of values.\n",
    "- The \"fnlwgt\" column needs further investigation to understand its purpose and impact on the analysis.\n",
    "- The \"capital-gain\" column with a maximum value of 99999 might require further cleaning or investigation to determine if it represents a valid data point."
   ]
  },
  {
   "cell_type": "markdown",
   "metadata": {},
   "source": [
    "# Data Cleaning\n",
    "\n",
    "In the real world, the data is dirty with lots of potential incorrect data from human mistakes. computing errors, or transmission problems. So, in this part, we will preprocess to ensure the accuracy and reliability of later analyses."
   ]
  },
  {
   "cell_type": "markdown",
   "metadata": {},
   "source": [
    "## Assessment of Missing Data\n",
    "\n",
    "First, we will check if there is any missing data present by using pandas.isnull() to indicate whether values are missing and pandas.sum() to count all of them."
   ]
  },
  {
   "cell_type": "code",
   "execution_count": 11,
   "metadata": {},
   "outputs": [
    {
     "data": {
      "text/plain": [
       "age               0\n",
       "workclass         0\n",
       "fnlwgt            0\n",
       "education         0\n",
       "education-num     0\n",
       "marital-status    0\n",
       "occupation        0\n",
       "relationship      0\n",
       "race              0\n",
       "sex               0\n",
       "capital-gain      0\n",
       "capital-loss      0\n",
       "hours-per-week    0\n",
       "native-country    0\n",
       "income            0\n",
       "dtype: int64"
      ]
     },
     "execution_count": 11,
     "metadata": {},
     "output_type": "execute_result"
    }
   ],
   "source": [
    "# show missing values\n",
    "df.isnull().sum()"
   ]
  },
  {
   "cell_type": "markdown",
   "metadata": {},
   "source": [
    "As we have seen, although the dataset does not have any missing values, they do contain '?' values. Because these values can hinder income prediction, we consider these values as missing values. Let's try to count how many of those values are in the dataset."
   ]
  },
  {
   "cell_type": "code",
   "execution_count": 12,
   "metadata": {},
   "outputs": [
    {
     "data": {
      "text/plain": [
       "age                  0\n",
       "workclass         1836\n",
       "fnlwgt               0\n",
       "education            0\n",
       "education-num        0\n",
       "marital-status       0\n",
       "occupation        1843\n",
       "relationship         0\n",
       "race                 0\n",
       "sex                  0\n",
       "capital-gain         0\n",
       "capital-loss         0\n",
       "hours-per-week       0\n",
       "native-country     583\n",
       "income               0\n",
       "dtype: int64"
      ]
     },
     "execution_count": 12,
     "metadata": {},
     "output_type": "execute_result"
    }
   ],
   "source": [
    "# show '?' values\n",
    "(df == ' ?').sum()"
   ]
  },
  {
   "cell_type": "markdown",
   "metadata": {},
   "source": [
    "Missing data present in 3 features:\n",
    "- workclass: 1836 missing values.\n",
    "- occupation: 1843 missing values.\n",
    "- native-country: 583 missing values.\n",
    "\n",
    "To address this problem, we will fill in the missing values. Because of by doing it, we can avoids losing valuable information and ensure model have complete data.\n",
    "\n",
    "The affected records should not be excluded from the dataset because they occupy a considerable amount of the dataset. Therefore, removing them can lead to lose vabluable information.\n",
    "\n",
    "The missing values should be imputed because it can remain the records to analyse.\n",
    "\n",
    "In this lab, pandas.fillna() will be used to fill the missing values. The method used to fill is `bfill`, which use next valid observation to fill gap. But first, we need to replace all the '?' with the NaN value."
   ]
  },
  {
   "cell_type": "code",
   "execution_count": 13,
   "metadata": {},
   "outputs": [],
   "source": [
    "# fill missing values\n",
    "for i in ['workclass', 'occupation', 'native-country']:\n",
    "    df[i].replace(to_replace = ' ?', value = np.nan, inplace = True)\n",
    "    df[i] = df[i].fillna(method = 'bfill') "
   ]
  },
  {
   "cell_type": "markdown",
   "metadata": {},
   "source": [
    "## Identification of Duplicate Records\n",
    "\n",
    "After filling in missing data, we will check for duplicate records by using pandas.duplicated()."
   ]
  },
  {
   "cell_type": "code",
   "execution_count": 14,
   "metadata": {},
   "outputs": [
    {
     "data": {
      "text/plain": [
       "23"
      ]
     },
     "execution_count": 14,
     "metadata": {},
     "output_type": "execute_result"
    }
   ],
   "source": [
    "# check missing values\n",
    "df.duplicated().sum()"
   ]
  },
  {
   "cell_type": "markdown",
   "metadata": {},
   "source": [
    "There are 23 duplicated row in this datasset, so we will keep only one of them and remove the remain ones."
   ]
  },
  {
   "cell_type": "code",
   "execution_count": 15,
   "metadata": {},
   "outputs": [],
   "source": [
    "# drop duplicate rows\n",
    "df = df.drop_duplicates()"
   ]
  },
  {
   "cell_type": "code",
   "execution_count": 16,
   "metadata": {},
   "outputs": [
    {
     "data": {
      "text/plain": [
       "(32538, 15)"
      ]
     },
     "execution_count": 16,
     "metadata": {},
     "output_type": "execute_result"
    }
   ],
   "source": [
    "# print shape after dropping duplicates\n",
    "df.shape"
   ]
  },
  {
   "cell_type": "markdown",
   "metadata": {},
   "source": [
    "There are 32538 rows left after removing duplicated records."
   ]
  },
  {
   "cell_type": "markdown",
   "metadata": {},
   "source": [
    "## Additional Data Cleaning Methods"
   ]
  },
  {
   "cell_type": "markdown",
   "metadata": {},
   "source": [
    "### Reformat the data\n",
    "\n",
    "The dataset has not been consistenly formatted. We will remove extra whitespace before each value and standardize letter case"
   ]
  },
  {
   "cell_type": "code",
   "execution_count": 17,
   "metadata": {},
   "outputs": [],
   "source": [
    "# format the data\n",
    "df['workclass'] = df['workclass'].str.strip().str.lower()\n",
    "df['education'] = df['education'].str.strip().str.lower()\n",
    "df['marital-status'] = df['marital-status'].str.strip().str.lower()\n",
    "df['occupation'] = df['occupation'].str.strip().str.lower()\n",
    "df['relationship'] = df['relationship'].str.strip().str.lower()\n",
    "df['race'] = df['race'].str.strip().str.lower()\n",
    "df['sex'] = df['sex'].str.strip().str.lower()\n",
    "df['native-country'] = df['native-country'].str.strip().str.lower()\n",
    "df['income'] = df['income'].str.strip().str.lower()"
   ]
  },
  {
   "cell_type": "markdown",
   "metadata": {},
   "source": [
    "### Remove oulier\n",
    "\n",
    "Ouliers are data points that significantly deviate from the majority of the data. They can skew statistical analysis and negatively impact the learning model. \n",
    "\n",
    "To remove the oulier, we will use Whisker formula, which gives upper and lower bounds for the data. The formla is defined as: (from source [1]) \n",
    "$$\\text{lower\\_weight} = Q_1 - 1.5 \\times IQR$$\n",
    "$$\\text{upper\\_weight} = Q_3 + 1.5 \\times IQR$$\n",
    "\n",
    "Where: \n",
    "- The median ($Q_2$) divides the data set into two parts, the upper set and the lower set.  \n",
    "    - $Q_1$ is the median of the lower half.\n",
    "    - $Q_3$ is the median of the upper half.\n",
    "- The interquartile range: $IQR = Q_3 - Q_1$. "
   ]
  },
  {
   "cell_type": "code",
   "execution_count": 18,
   "metadata": {},
   "outputs": [],
   "source": [
    "def whisker(feature):\n",
    "    \"\"\"\n",
    "    This function calculates the lower and upper whiskers of a feature.\n",
    "\n",
    "    Parameters:\n",
    "    -----------\n",
    "    feature: str\n",
    "        the feature name\n",
    "\n",
    "    Returns:\n",
    "    ----------\n",
    "    lw: float\n",
    "        lower whisker\n",
    "    uw: float\n",
    "        upper whisker\n",
    "    \"\"\"\n",
    "    q1, q3 = np.percentile(df[feature], [25, 75])\n",
    "    iqr = q3 - q1\n",
    "    lw = q1 - 1.5 * iqr\n",
    "    uw = q3 + 1.5 * iqr\n",
    "    return lw, uw"
   ]
  },
  {
   "cell_type": "code",
   "execution_count": 19,
   "metadata": {},
   "outputs": [],
   "source": [
    "for i in {'age', 'fnlwgt', 'education-num', 'hours-per-week'}:\n",
    "    # get lower and upper whiskers\n",
    "    lw, uw = whisker(i)\n",
    "\n",
    "    # replace the outliers on the upper side\n",
    "    df[i] = np.where(df[i] > uw, uw, df[i])\n",
    "    df[i] = np.where(df[i] < lw, lw, df[i])"
   ]
  },
  {
   "cell_type": "markdown",
   "metadata": {},
   "source": [
    "# Data Discretization"
   ]
  },
  {
   "cell_type": "markdown",
   "metadata": {},
   "source": [
    "Now, we will define categorized boundaries for features to simplify data, reduce the complexity of the dataset, and help us focus on broader patterns, which can be especially helpful when there are too many granular categories or when certain categories have low representation."
   ]
  },
  {
   "cell_type": "markdown",
   "metadata": {},
   "source": [
    "## Categorical features\n",
    "\n",
    "Although these are already discrete, we will classify them again to make it cleaner and easier to understand."
   ]
  },
  {
   "cell_type": "markdown",
   "metadata": {},
   "source": [
    "### Education\n",
    "\n",
    "This feature has many values belonging to the same learning group, so we will reclassify them based on information from the following source [2]."
   ]
  },
  {
   "cell_type": "code",
   "execution_count": 20,
   "metadata": {},
   "outputs": [],
   "source": [
    "# reclassify the education column\n",
    "df.education = df.education.replace(['preschool', '1st-4th', '5th-6th'], 'elementary-school')\n",
    "df.education = df.education.replace(['7th-8th', '9th', '10th', '11th', '12th'], 'some-high-school')\n",
    "df.education = df.education.replace('hs-grad', 'completed-high-school')\n",
    "df.education = df.education.replace(['assoc-voc'], 'trade-school')\n",
    "df.education = df.education.replace(['assoc-acdm', 'some-college'], 'diploma')\n",
    "df.education = df.education.replace(['bachelors'], 'bachelors')\n",
    "df.education = df.education.replace(['masters'], 'masters')\n",
    "df.education = df.education.replace(['doctorate', 'prof-school'], 'doctorate')"
   ]
  },
  {
   "cell_type": "code",
   "execution_count": 21,
   "metadata": {},
   "outputs": [
    {
     "data": {
      "text/plain": [
       "education\n",
       "completed-high-school    10495\n",
       "diploma                   8349\n",
       "bachelors                 5353\n",
       "some-high-school          3700\n",
       "masters                   1722\n",
       "trade-school              1382\n",
       "doctorate                  989\n",
       "elementary-school          548\n",
       "Name: count, dtype: int64"
      ]
     },
     "execution_count": 21,
     "metadata": {},
     "output_type": "execute_result"
    }
   ],
   "source": [
    "# print the new unique values of the education column\n",
    "df['education'].value_counts()"
   ]
  },
  {
   "cell_type": "markdown",
   "metadata": {},
   "source": [
    "### Workclass"
   ]
  },
  {
   "cell_type": "markdown",
   "metadata": {},
   "source": [
    "We will group similar classes based on the type of employment to reduce the number of unique values. Here's the new categorized:\n",
    "- government: Combine `state-gov`, `federal-gov`, and `local-gov`.\n",
    "- self-Employed: Combine `self-emp-not-inc` and `self-emp-inc`.\n",
    "- pivate: Keep `private` as a standalone category.\n",
    "- unemployed: Group `without-pay` and `never-worked`."
   ]
  },
  {
   "cell_type": "code",
   "execution_count": 22,
   "metadata": {},
   "outputs": [],
   "source": [
    "# reclassify the workclass column\n",
    "df['workclass'] = df['workclass'].replace(['state-gov', 'federal-gov', 'local-gov'], 'government')\n",
    "df['workclass'] = df['workclass'].replace(['self-emp-not-inc', 'self-emp-inc'], 'self-Employed')\n",
    "df['workclass'] = df['workclass'].replace('private', 'private')\n",
    "df['workclass'] = df['workclass'].replace(['without-pay', 'never-worked'], 'unemployed')"
   ]
  },
  {
   "cell_type": "code",
   "execution_count": 23,
   "metadata": {},
   "outputs": [
    {
     "data": {
      "text/plain": [
       "workclass\n",
       "private          24034\n",
       "government        4599\n",
       "self-Employed     3882\n",
       "unemployed          23\n",
       "Name: count, dtype: int64"
      ]
     },
     "execution_count": 23,
     "metadata": {},
     "output_type": "execute_result"
    }
   ],
   "source": [
    "# print the new unique values of the workclass column\n",
    "df['workclass'].value_counts()"
   ]
  },
  {
   "cell_type": "markdown",
   "metadata": {},
   "source": [
    "### Occupation"
   ]
  },
  {
   "cell_type": "markdown",
   "metadata": {},
   "source": [
    "This feature has many values belonging to the same occupation group, so we will reclassify them based on information from the following source [3]."
   ]
  },
  {
   "cell_type": "code",
   "execution_count": 24,
   "metadata": {},
   "outputs": [],
   "source": [
    "# reclassify the occupation column\n",
    "df['occupation'] = df['occupation'].replace(['exec-managerial', 'prof-specialty', 'tech-support'], 'skill_level_34')\n",
    "df['occupation'] = df['occupation'].replace(['adm-clerical', 'other-service', 'sales', 'priv-house-serv', 'farming-fishing', 'craft-repair', 'machine-op-inspct'], 'skill_level_2')\n",
    "df['occupation'] = df['occupation'].replace(['protective-serv', 'transport-moving', 'handlers-cleaners', 'armed-forces'], 'skill_level_1')"
   ]
  },
  {
   "cell_type": "code",
   "execution_count": 25,
   "metadata": {},
   "outputs": [
    {
     "data": {
      "text/plain": [
       "occupation\n",
       "skill_level_2     19034\n",
       "skill_level_34     9675\n",
       "skill_level_1      3829\n",
       "Name: count, dtype: int64"
      ]
     },
     "execution_count": 25,
     "metadata": {},
     "output_type": "execute_result"
    }
   ],
   "source": [
    "# print the new unique values of the occupation column\n",
    "df['occupation'].value_counts()"
   ]
  },
  {
   "cell_type": "markdown",
   "metadata": {},
   "source": [
    "### Native country"
   ]
  },
  {
   "cell_type": "markdown",
   "metadata": {},
   "source": [
    "As we have seen in the EDA section, `united-states` takes up most of this feature, so we can divide them into two categoriess: united-states and the rest of the countries."
   ]
  },
  {
   "cell_type": "code",
   "execution_count": 26,
   "metadata": {},
   "outputs": [],
   "source": [
    "# reclassify the native-country column\n",
    "df['native-country'] = np.where(df['native-country'] != 'united-states', 'others', df['native-country'])"
   ]
  },
  {
   "cell_type": "code",
   "execution_count": 27,
   "metadata": {},
   "outputs": [
    {
     "data": {
      "text/plain": [
       "native-country\n",
       "united-states    29678\n",
       "others            2860\n",
       "Name: count, dtype: int64"
      ]
     },
     "execution_count": 27,
     "metadata": {},
     "output_type": "execute_result"
    }
   ],
   "source": [
    "# print the new unique values of the native-country column\n",
    "df['native-country'].value_counts()"
   ]
  },
  {
   "cell_type": "markdown",
   "metadata": {},
   "source": [
    "## Numerical features"
   ]
  },
  {
   "cell_type": "markdown",
   "metadata": {},
   "source": [
    "### Age\n",
    "\n",
    "We will discrete this feature by using equal-width bining."
   ]
  },
  {
   "cell_type": "code",
   "execution_count": 28,
   "metadata": {},
   "outputs": [
    {
     "name": "stdout",
     "output_type": "stream",
     "text": [
      "Bin 0: (16.999, 31.0]\n",
      "Bin 1: (31.0, 44.0]\n",
      "Bin 2: (44.0, 78.0]\n"
     ]
    }
   ],
   "source": [
    "# divide the age into 3 bins\n",
    "bin_ranges = pd.qcut(df['age'], q = 3)\n",
    "\n",
    "# print the bin ranges\n",
    "for label, interval in enumerate(bin_ranges.cat.categories):\n",
    "    print(f\"Bin {label}: {interval}\")"
   ]
  },
  {
   "cell_type": "code",
   "execution_count": 29,
   "metadata": {},
   "outputs": [],
   "source": [
    "# divide the age into 3 bins and label them\n",
    "df['age'] = pd.qcut(df['age'], q = 3, labels = ['16 - 31', '32 - 44', '45 - 78'])"
   ]
  },
  {
   "cell_type": "code",
   "execution_count": 30,
   "metadata": {},
   "outputs": [
    {
     "data": {
      "text/plain": [
       "age\n",
       "16 - 31    11447\n",
       "32 - 44    10735\n",
       "45 - 78    10356\n",
       "Name: count, dtype: int64"
      ]
     },
     "execution_count": 30,
     "metadata": {},
     "output_type": "execute_result"
    }
   ],
   "source": [
    "# print the new unique values of the age column\n",
    "df['age'].value_counts()"
   ]
  },
  {
   "cell_type": "markdown",
   "metadata": {},
   "source": [
    "### Capital-gain & capital-loss"
   ]
  },
  {
   "cell_type": "code",
   "execution_count": 31,
   "metadata": {},
   "outputs": [],
   "source": [
    "def k_means_cluster(feature, k):\n",
    "    \"\"\"\n",
    "    This function performs k-means clustering on a feature.\n",
    "\n",
    "    Parameters:\n",
    "    ----------\n",
    "    feature: str\n",
    "        the feature name\n",
    "    k: int\n",
    "        the number of clusters\n",
    "\n",
    "    Returns:\n",
    "    ----------\n",
    "    df: DataFrame\n",
    "        the DataFrame with the feature values replaced by cluster labels\n",
    "    \"\"\"\n",
    "    # copy the feature data\n",
    "    feature_data = df[[feature]].copy()\n",
    "    \n",
    "    # initialize centroids by sampling unique values of the feature\n",
    "    unique_values = feature_data[feature].unique()\n",
    "    centroids = pd.DataFrame(np.random.choice(unique_values, k), columns = [feature])\n",
    "    \n",
    "    converged = False\n",
    "    while not converged:\n",
    "        clusters = {i: [] for i in range(k)}\n",
    "        \n",
    "        # assign each value to the nearest centroid\n",
    "        for value in unique_values:\n",
    "            distances = [np.linalg.norm(value - centroid) for centroid in centroids[feature]]\n",
    "            clusters[np.argmin(distances)].append(value)\n",
    "        \n",
    "        # calculate new centroids\n",
    "        new_centroids = []\n",
    "        for cluster in clusters.values():\n",
    "            new_centroids.append(np.mean(cluster))\n",
    "        \n",
    "        new_centroids = pd.DataFrame(new_centroids, columns = [feature])\n",
    "        \n",
    "        # check for convergence\n",
    "        converged = new_centroids.equals(centroids)\n",
    "        centroids = new_centroids\n",
    "    \n",
    "    # create a mapping from original values to cluster labels\n",
    "    label_mapping = {}\n",
    "    for label, cluster in clusters.items():\n",
    "        for value in cluster:\n",
    "            label_mapping[value] = label\n",
    "    \n",
    "    # apply the mapping to the feature in the original data\n",
    "    df[feature] = df[feature].map(label_mapping)\n",
    "    \n",
    "    return df"
   ]
  },
  {
   "cell_type": "code",
   "execution_count": 32,
   "metadata": {},
   "outputs": [],
   "source": [
    "# apply k-means clustering to the capital-gain column\n",
    "df = k_means_cluster('capital-gain', 3)"
   ]
  },
  {
   "cell_type": "code",
   "execution_count": 33,
   "metadata": {},
   "outputs": [
    {
     "data": {
      "text/plain": [
       "capital-gain\n",
       "0    31831\n",
       "2      548\n",
       "1      159\n",
       "Name: count, dtype: int64"
      ]
     },
     "execution_count": 33,
     "metadata": {},
     "output_type": "execute_result"
    }
   ],
   "source": [
    "# print the new unique values of the capital-gain column\n",
    "df['capital-gain'].value_counts()"
   ]
  },
  {
   "cell_type": "code",
   "execution_count": 34,
   "metadata": {},
   "outputs": [],
   "source": [
    "# apply k-means clustering to the capital-loss column\n",
    "df = k_means_cluster('capital-loss', 3)"
   ]
  },
  {
   "cell_type": "code",
   "execution_count": 35,
   "metadata": {},
   "outputs": [
    {
     "data": {
      "text/plain": [
       "capital-loss\n",
       "1    31064\n",
       "0     1259\n",
       "2      215\n",
       "Name: count, dtype: int64"
      ]
     },
     "execution_count": 35,
     "metadata": {},
     "output_type": "execute_result"
    }
   ],
   "source": [
    "# print the new unique values of the capital-loss column\n",
    "df['capital-loss'].value_counts()"
   ]
  },
  {
   "cell_type": "markdown",
   "metadata": {},
   "source": [
    "## Label Encoding"
   ]
  },
  {
   "cell_type": "markdown",
   "metadata": {},
   "source": [
    "Encode the discretized features in the new classification order."
   ]
  },
  {
   "cell_type": "code",
   "execution_count": 36,
   "metadata": {},
   "outputs": [],
   "source": [
    "# encode the age column\n",
    "age_mapping = {'16 - 31': 0, '32 - 44': 1, '45 - 78': 2}\n",
    "df['age'] = df['age'].map(age_mapping)"
   ]
  },
  {
   "cell_type": "code",
   "execution_count": 37,
   "metadata": {},
   "outputs": [],
   "source": [
    "# encode the workclass column\n",
    "workclass_mapping = {'government': 0, 'self-Employed': 1, 'private': 2, 'unemployed': 3}\n",
    "df['workclass'] = df['workclass'].map(workclass_mapping)"
   ]
  },
  {
   "cell_type": "code",
   "execution_count": 38,
   "metadata": {},
   "outputs": [],
   "source": [
    "# encode the education column\n",
    "education_mapping = {'elementary-school': 0, 'some-high-school': 1, 'completed-high-school': 2, 'trade-school': 3, 'diploma': 4, 'bachelors': 5, 'masters': 6, 'doctorate': 7}\n",
    "df['education'] = df['education'].map(education_mapping)"
   ]
  },
  {
   "cell_type": "code",
   "execution_count": 39,
   "metadata": {},
   "outputs": [],
   "source": [
    "# encode the occupation column\n",
    "occupation_mapping = {'skill_level_34': 0, 'skill_level_2': 1, 'skill_level_1': 2}\n",
    "df['occupation'] = df['occupation'].map(occupation_mapping)"
   ]
  },
  {
   "cell_type": "code",
   "execution_count": 40,
   "metadata": {},
   "outputs": [],
   "source": [
    "# encode the native-country column\n",
    "native_country_mapping = {'united-states': 0, 'others': 1}\n",
    "df['native-country'] = df['native-country'].map(native_country_mapping)"
   ]
  },
  {
   "cell_type": "code",
   "execution_count": 41,
   "metadata": {},
   "outputs": [],
   "source": [
    "# encode the sex column\n",
    "sex_mapping = {'female': 0, 'male': 1}\n",
    "df['sex'] = df['sex'].map(sex_mapping)"
   ]
  },
  {
   "cell_type": "code",
   "execution_count": 42,
   "metadata": {},
   "outputs": [],
   "source": [
    "# encode the income column\n",
    "income_mapping = {'<=50k': 0, '>50k': 1}\n",
    "df['income'] = df['income'].map(income_mapping)"
   ]
  },
  {
   "cell_type": "code",
   "execution_count": 43,
   "metadata": {},
   "outputs": [],
   "source": [
    "def frequency_encoding(feature):\n",
    "    \"\"\"\n",
    "    This function performs frequency encoding on a feature.\n",
    "\n",
    "    Parameters:\n",
    "    ----------\n",
    "    feature: str\n",
    "        the feature name\n",
    "\n",
    "    Returns:\n",
    "    ----------\n",
    "    df: DataFrame\n",
    "        the DataFrame with the feature values replaced by frequency encoding\n",
    "    \"\"\"\n",
    "    # get the frequency of each category and sort by frequency in ascending order\n",
    "    frequency_map = df[feature].value_counts().sort_values().index\n",
    "\n",
    "    # create a dictionary to assign incremental numbers starting from 0\n",
    "    encoding_map = {value: i for i, value in enumerate(frequency_map)}\n",
    "\n",
    "    # apply this encoding to the column\n",
    "    df[feature] = df[feature].map(encoding_map)\n",
    "    \n",
    "    return df"
   ]
  },
  {
   "cell_type": "code",
   "execution_count": 44,
   "metadata": {},
   "outputs": [
    {
     "data": {
      "text/plain": [
       "marital-status\n",
       "married-civ-spouse       14970\n",
       "never-married            10668\n",
       "divorced                  4441\n",
       "separated                 1025\n",
       "widowed                    993\n",
       "married-spouse-absent      418\n",
       "married-af-spouse           23\n",
       "Name: count, dtype: int64"
      ]
     },
     "execution_count": 44,
     "metadata": {},
     "output_type": "execute_result"
    }
   ],
   "source": [
    "# print the unique values of the marital-status column\n",
    "df['marital-status'].value_counts()"
   ]
  },
  {
   "cell_type": "code",
   "execution_count": 45,
   "metadata": {},
   "outputs": [
    {
     "data": {
      "text/plain": [
       "relationship\n",
       "husband           13187\n",
       "not-in-family      8293\n",
       "own-child          5064\n",
       "unmarried          3445\n",
       "wife               1568\n",
       "other-relative      981\n",
       "Name: count, dtype: int64"
      ]
     },
     "execution_count": 45,
     "metadata": {},
     "output_type": "execute_result"
    }
   ],
   "source": [
    "# print the unique values of the relationship column\n",
    "df['relationship'].value_counts()"
   ]
  },
  {
   "cell_type": "code",
   "execution_count": 46,
   "metadata": {},
   "outputs": [
    {
     "data": {
      "text/plain": [
       "race\n",
       "white                 27795\n",
       "black                  3123\n",
       "asian-pac-islander     1038\n",
       "amer-indian-eskimo      311\n",
       "other                   271\n",
       "Name: count, dtype: int64"
      ]
     },
     "execution_count": 46,
     "metadata": {},
     "output_type": "execute_result"
    }
   ],
   "source": [
    "# print the unique values of the race column\n",
    "df['race'].value_counts()"
   ]
  },
  {
   "cell_type": "code",
   "execution_count": 47,
   "metadata": {},
   "outputs": [],
   "source": [
    "# apply frequency encoding to the marital-status, relationship, race columns\n",
    "df = frequency_encoding('marital-status')\n",
    "df = frequency_encoding('relationship')\n",
    "df = frequency_encoding('race')"
   ]
  },
  {
   "cell_type": "markdown",
   "metadata": {},
   "source": [
    "# Data Normalization"
   ]
  },
  {
   "cell_type": "code",
   "execution_count": 48,
   "metadata": {},
   "outputs": [
    {
     "data": {
      "text/html": [
       "<div>\n",
       "<style scoped>\n",
       "    .dataframe tbody tr th:only-of-type {\n",
       "        vertical-align: middle;\n",
       "    }\n",
       "\n",
       "    .dataframe tbody tr th {\n",
       "        vertical-align: top;\n",
       "    }\n",
       "\n",
       "    .dataframe thead th {\n",
       "        text-align: right;\n",
       "    }\n",
       "</style>\n",
       "<table border=\"1\" class=\"dataframe\">\n",
       "  <thead>\n",
       "    <tr style=\"text-align: right;\">\n",
       "      <th></th>\n",
       "      <th>age</th>\n",
       "      <th>workclass</th>\n",
       "      <th>fnlwgt</th>\n",
       "      <th>education</th>\n",
       "      <th>education-num</th>\n",
       "      <th>marital-status</th>\n",
       "      <th>occupation</th>\n",
       "      <th>relationship</th>\n",
       "      <th>race</th>\n",
       "      <th>sex</th>\n",
       "      <th>capital-gain</th>\n",
       "      <th>capital-loss</th>\n",
       "      <th>hours-per-week</th>\n",
       "      <th>native-country</th>\n",
       "      <th>income</th>\n",
       "    </tr>\n",
       "  </thead>\n",
       "  <tbody>\n",
       "    <tr>\n",
       "      <th>0</th>\n",
       "      <td>1</td>\n",
       "      <td>0</td>\n",
       "      <td>77516.0</td>\n",
       "      <td>5</td>\n",
       "      <td>13.0</td>\n",
       "      <td>5</td>\n",
       "      <td>1</td>\n",
       "      <td>4</td>\n",
       "      <td>4</td>\n",
       "      <td>1</td>\n",
       "      <td>0</td>\n",
       "      <td>1</td>\n",
       "      <td>40.0</td>\n",
       "      <td>0</td>\n",
       "      <td>0</td>\n",
       "    </tr>\n",
       "    <tr>\n",
       "      <th>1</th>\n",
       "      <td>2</td>\n",
       "      <td>1</td>\n",
       "      <td>83311.0</td>\n",
       "      <td>5</td>\n",
       "      <td>13.0</td>\n",
       "      <td>6</td>\n",
       "      <td>0</td>\n",
       "      <td>5</td>\n",
       "      <td>4</td>\n",
       "      <td>1</td>\n",
       "      <td>0</td>\n",
       "      <td>1</td>\n",
       "      <td>32.5</td>\n",
       "      <td>0</td>\n",
       "      <td>0</td>\n",
       "    </tr>\n",
       "    <tr>\n",
       "      <th>2</th>\n",
       "      <td>1</td>\n",
       "      <td>2</td>\n",
       "      <td>215646.0</td>\n",
       "      <td>2</td>\n",
       "      <td>9.0</td>\n",
       "      <td>4</td>\n",
       "      <td>2</td>\n",
       "      <td>4</td>\n",
       "      <td>4</td>\n",
       "      <td>1</td>\n",
       "      <td>0</td>\n",
       "      <td>1</td>\n",
       "      <td>40.0</td>\n",
       "      <td>0</td>\n",
       "      <td>0</td>\n",
       "    </tr>\n",
       "    <tr>\n",
       "      <th>3</th>\n",
       "      <td>2</td>\n",
       "      <td>2</td>\n",
       "      <td>234721.0</td>\n",
       "      <td>1</td>\n",
       "      <td>7.0</td>\n",
       "      <td>6</td>\n",
       "      <td>2</td>\n",
       "      <td>5</td>\n",
       "      <td>3</td>\n",
       "      <td>1</td>\n",
       "      <td>0</td>\n",
       "      <td>1</td>\n",
       "      <td>40.0</td>\n",
       "      <td>0</td>\n",
       "      <td>0</td>\n",
       "    </tr>\n",
       "    <tr>\n",
       "      <th>4</th>\n",
       "      <td>0</td>\n",
       "      <td>2</td>\n",
       "      <td>338409.0</td>\n",
       "      <td>5</td>\n",
       "      <td>13.0</td>\n",
       "      <td>6</td>\n",
       "      <td>0</td>\n",
       "      <td>1</td>\n",
       "      <td>3</td>\n",
       "      <td>0</td>\n",
       "      <td>0</td>\n",
       "      <td>1</td>\n",
       "      <td>40.0</td>\n",
       "      <td>1</td>\n",
       "      <td>0</td>\n",
       "    </tr>\n",
       "  </tbody>\n",
       "</table>\n",
       "</div>"
      ],
      "text/plain": [
       "  age  workclass    fnlwgt  education  education-num  marital-status  \\\n",
       "0   1          0   77516.0          5           13.0               5   \n",
       "1   2          1   83311.0          5           13.0               6   \n",
       "2   1          2  215646.0          2            9.0               4   \n",
       "3   2          2  234721.0          1            7.0               6   \n",
       "4   0          2  338409.0          5           13.0               6   \n",
       "\n",
       "   occupation  relationship  race  sex  capital-gain  capital-loss  \\\n",
       "0           1             4     4    1             0             1   \n",
       "1           0             5     4    1             0             1   \n",
       "2           2             4     4    1             0             1   \n",
       "3           2             5     3    1             0             1   \n",
       "4           0             1     3    0             0             1   \n",
       "\n",
       "   hours-per-week  native-country  income  \n",
       "0            40.0               0       0  \n",
       "1            32.5               0       0  \n",
       "2            40.0               0       0  \n",
       "3            40.0               0       0  \n",
       "4            40.0               1       0  "
      ]
     },
     "execution_count": 48,
     "metadata": {},
     "output_type": "execute_result"
    }
   ],
   "source": [
    "# print the first 5 rows of the dataset after encoding\n",
    "df.head()"
   ]
  },
  {
   "cell_type": "markdown",
   "metadata": {},
   "source": [
    "`fnlwgt` has a wide range and can significantly influence the model if not scaled.\n",
    "\n",
    "In this part, we will use Min-Max scaling to scale the above features into range [0; 1]. The formula is defined as:\n",
    "$$X_{scaled} = \\frac{X - X_{min}}{X_{max} - X_{min}} \\times (X_{max\\_new} - X_{min\\_new}) + X_{min\\_new}$$"
   ]
  },
  {
   "cell_type": "code",
   "execution_count": 49,
   "metadata": {},
   "outputs": [],
   "source": [
    "def max_min_scaler(feature, x_min_new = 0, x_max_new = 1):\n",
    "    \"\"\"\"\n",
    "    This function scales the data using the formula:\n",
    "    x_scaled = (x - x_min) / (x_max - x_min) * (x_max_new - x_min_new) + x_min_new\n",
    "\n",
    "    Parameters:\n",
    "    ----------\n",
    "    feature: pandas.Series\n",
    "        The data to be scaled\n",
    "\n",
    "    Returns:\n",
    "    ----------  \n",
    "    new_data: pandas.Series\n",
    "        The scaled data\n",
    "    \"\"\"\n",
    "    x_max = df[feature].max()\n",
    "    x_min = df[feature].min()\n",
    "    df[feature] = (df[feature] - x_min) / (x_max - x_min) * (x_max_new - x_min_new) + x_min_new\n",
    "    return df"
   ]
  },
  {
   "cell_type": "code",
   "execution_count": 50,
   "metadata": {},
   "outputs": [],
   "source": [
    "# scale the fnlwgt column to the range [0, 1]\n",
    "df = max_min_scaler('fnlwgt')"
   ]
  },
  {
   "cell_type": "code",
   "execution_count": 51,
   "metadata": {},
   "outputs": [],
   "source": [
    "# scale the hours-per-work column to the range [0, 1]\n",
    "df = max_min_scaler('hours-per-week')"
   ]
  },
  {
   "cell_type": "markdown",
   "metadata": {},
   "source": [
    "# Dimensionality Reduction\n",
    "\n",
    "To address dimensionality reduction, let's calculate the correlation matrix and display them to have an overall view about the relation between each feature."
   ]
  },
  {
   "cell_type": "code",
   "execution_count": 52,
   "metadata": {},
   "outputs": [
    {
     "data": {
      "text/html": [
       "<div>\n",
       "<style scoped>\n",
       "    .dataframe tbody tr th:only-of-type {\n",
       "        vertical-align: middle;\n",
       "    }\n",
       "\n",
       "    .dataframe tbody tr th {\n",
       "        vertical-align: top;\n",
       "    }\n",
       "\n",
       "    .dataframe thead th {\n",
       "        text-align: right;\n",
       "    }\n",
       "</style>\n",
       "<table border=\"1\" class=\"dataframe\">\n",
       "  <thead>\n",
       "    <tr style=\"text-align: right;\">\n",
       "      <th></th>\n",
       "      <th>age</th>\n",
       "      <th>workclass</th>\n",
       "      <th>fnlwgt</th>\n",
       "      <th>education</th>\n",
       "      <th>education-num</th>\n",
       "      <th>marital-status</th>\n",
       "      <th>occupation</th>\n",
       "      <th>relationship</th>\n",
       "      <th>race</th>\n",
       "      <th>sex</th>\n",
       "      <th>capital-gain</th>\n",
       "      <th>capital-loss</th>\n",
       "      <th>hours-per-week</th>\n",
       "      <th>native-country</th>\n",
       "      <th>income</th>\n",
       "    </tr>\n",
       "  </thead>\n",
       "  <tbody>\n",
       "    <tr>\n",
       "      <th>age</th>\n",
       "      <td>1.000000</td>\n",
       "      <td>-0.154679</td>\n",
       "      <td>-0.071894</td>\n",
       "      <td>0.049699</td>\n",
       "      <td>0.053751</td>\n",
       "      <td>-0.005728</td>\n",
       "      <td>-0.104713</td>\n",
       "      <td>0.227105</td>\n",
       "      <td>0.040487</td>\n",
       "      <td>0.089543</td>\n",
       "      <td>0.089001</td>\n",
       "      <td>-0.017860</td>\n",
       "      <td>0.123597</td>\n",
       "      <td>-0.020716</td>\n",
       "      <td>0.267808</td>\n",
       "    </tr>\n",
       "    <tr>\n",
       "      <th>workclass</th>\n",
       "      <td>-0.154679</td>\n",
       "      <td>1.000000</td>\n",
       "      <td>0.032058</td>\n",
       "      <td>-0.173428</td>\n",
       "      <td>-0.168952</td>\n",
       "      <td>-0.028970</td>\n",
       "      <td>0.118827</td>\n",
       "      <td>-0.052205</td>\n",
       "      <td>0.012130</td>\n",
       "      <td>-0.016926</td>\n",
       "      <td>-0.015219</td>\n",
       "      <td>0.012720</td>\n",
       "      <td>-0.044174</td>\n",
       "      <td>0.048667</td>\n",
       "      <td>-0.094714</td>\n",
       "    </tr>\n",
       "    <tr>\n",
       "      <th>fnlwgt</th>\n",
       "      <td>-0.071894</td>\n",
       "      <td>0.032058</td>\n",
       "      <td>1.000000</td>\n",
       "      <td>-0.036262</td>\n",
       "      <td>-0.039788</td>\n",
       "      <td>-0.002164</td>\n",
       "      <td>0.032779</td>\n",
       "      <td>-0.017313</td>\n",
       "      <td>0.002658</td>\n",
       "      <td>0.028830</td>\n",
       "      <td>-0.000148</td>\n",
       "      <td>-0.000993</td>\n",
       "      <td>-0.025750</td>\n",
       "      <td>0.081830</td>\n",
       "      <td>-0.008412</td>\n",
       "    </tr>\n",
       "    <tr>\n",
       "      <th>education</th>\n",
       "      <td>0.049699</td>\n",
       "      <td>-0.173428</td>\n",
       "      <td>-0.036262</td>\n",
       "      <td>1.000000</td>\n",
       "      <td>0.931442</td>\n",
       "      <td>0.100703</td>\n",
       "      <td>-0.436878</td>\n",
       "      <td>0.108422</td>\n",
       "      <td>0.032891</td>\n",
       "      <td>0.009796</td>\n",
       "      <td>0.146320</td>\n",
       "      <td>-0.040785</td>\n",
       "      <td>0.167506</td>\n",
       "      <td>-0.071874</td>\n",
       "      <td>0.331130</td>\n",
       "    </tr>\n",
       "    <tr>\n",
       "      <th>education-num</th>\n",
       "      <td>0.053751</td>\n",
       "      <td>-0.168952</td>\n",
       "      <td>-0.039788</td>\n",
       "      <td>0.931442</td>\n",
       "      <td>1.000000</td>\n",
       "      <td>0.106195</td>\n",
       "      <td>-0.435099</td>\n",
       "      <td>0.114042</td>\n",
       "      <td>0.037412</td>\n",
       "      <td>0.015263</td>\n",
       "      <td>0.146186</td>\n",
       "      <td>-0.043348</td>\n",
       "      <td>0.184981</td>\n",
       "      <td>-0.095413</td>\n",
       "      <td>0.342365</td>\n",
       "    </tr>\n",
       "    <tr>\n",
       "      <th>marital-status</th>\n",
       "      <td>-0.005728</td>\n",
       "      <td>-0.028970</td>\n",
       "      <td>-0.002164</td>\n",
       "      <td>0.100703</td>\n",
       "      <td>0.106195</td>\n",
       "      <td>1.000000</td>\n",
       "      <td>-0.027935</td>\n",
       "      <td>0.411060</td>\n",
       "      <td>0.068935</td>\n",
       "      <td>0.408290</td>\n",
       "      <td>0.049709</td>\n",
       "      <td>-0.070700</td>\n",
       "      <td>0.168228</td>\n",
       "      <td>-0.027793</td>\n",
       "      <td>0.311285</td>\n",
       "    </tr>\n",
       "    <tr>\n",
       "      <th>occupation</th>\n",
       "      <td>-0.104713</td>\n",
       "      <td>0.118827</td>\n",
       "      <td>0.032779</td>\n",
       "      <td>-0.436878</td>\n",
       "      <td>-0.435099</td>\n",
       "      <td>-0.027935</td>\n",
       "      <td>1.000000</td>\n",
       "      <td>-0.030457</td>\n",
       "      <td>-0.031391</td>\n",
       "      <td>0.097502</td>\n",
       "      <td>-0.105419</td>\n",
       "      <td>0.028197</td>\n",
       "      <td>-0.102178</td>\n",
       "      <td>0.016641</td>\n",
       "      <td>-0.245062</td>\n",
       "    </tr>\n",
       "    <tr>\n",
       "      <th>relationship</th>\n",
       "      <td>0.227105</td>\n",
       "      <td>-0.052205</td>\n",
       "      <td>-0.017313</td>\n",
       "      <td>0.108422</td>\n",
       "      <td>0.114042</td>\n",
       "      <td>0.411060</td>\n",
       "      <td>-0.030457</td>\n",
       "      <td>1.000000</td>\n",
       "      <td>0.113941</td>\n",
       "      <td>0.553437</td>\n",
       "      <td>0.050914</td>\n",
       "      <td>-0.055567</td>\n",
       "      <td>0.256986</td>\n",
       "      <td>-0.067054</td>\n",
       "      <td>0.254312</td>\n",
       "    </tr>\n",
       "    <tr>\n",
       "      <th>race</th>\n",
       "      <td>0.040487</td>\n",
       "      <td>0.012130</td>\n",
       "      <td>0.002658</td>\n",
       "      <td>0.032891</td>\n",
       "      <td>0.037412</td>\n",
       "      <td>0.068935</td>\n",
       "      <td>-0.031391</td>\n",
       "      <td>0.113941</td>\n",
       "      <td>1.000000</td>\n",
       "      <td>0.068014</td>\n",
       "      <td>0.013133</td>\n",
       "      <td>-0.009202</td>\n",
       "      <td>0.059247</td>\n",
       "      <td>-0.255463</td>\n",
       "      <td>0.067746</td>\n",
       "    </tr>\n",
       "    <tr>\n",
       "      <th>sex</th>\n",
       "      <td>0.089543</td>\n",
       "      <td>-0.016926</td>\n",
       "      <td>0.028830</td>\n",
       "      <td>0.009796</td>\n",
       "      <td>0.015263</td>\n",
       "      <td>0.408290</td>\n",
       "      <td>0.097502</td>\n",
       "      <td>0.553437</td>\n",
       "      <td>0.068014</td>\n",
       "      <td>1.000000</td>\n",
       "      <td>0.044469</td>\n",
       "      <td>-0.041696</td>\n",
       "      <td>0.256384</td>\n",
       "      <td>0.001834</td>\n",
       "      <td>0.215954</td>\n",
       "    </tr>\n",
       "    <tr>\n",
       "      <th>capital-gain</th>\n",
       "      <td>0.089001</td>\n",
       "      <td>-0.015219</td>\n",
       "      <td>-0.000148</td>\n",
       "      <td>0.146320</td>\n",
       "      <td>0.146186</td>\n",
       "      <td>0.049709</td>\n",
       "      <td>-0.105419</td>\n",
       "      <td>0.050914</td>\n",
       "      <td>0.013133</td>\n",
       "      <td>0.044469</td>\n",
       "      <td>1.000000</td>\n",
       "      <td>0.022110</td>\n",
       "      <td>0.098012</td>\n",
       "      <td>-0.011552</td>\n",
       "      <td>0.253042</td>\n",
       "    </tr>\n",
       "    <tr>\n",
       "      <th>capital-loss</th>\n",
       "      <td>-0.017860</td>\n",
       "      <td>0.012720</td>\n",
       "      <td>-0.000993</td>\n",
       "      <td>-0.040785</td>\n",
       "      <td>-0.043348</td>\n",
       "      <td>-0.070700</td>\n",
       "      <td>0.028197</td>\n",
       "      <td>-0.055567</td>\n",
       "      <td>-0.009202</td>\n",
       "      <td>-0.041696</td>\n",
       "      <td>0.022110</td>\n",
       "      <td>1.000000</td>\n",
       "      <td>-0.036270</td>\n",
       "      <td>0.011744</td>\n",
       "      <td>-0.085213</td>\n",
       "    </tr>\n",
       "    <tr>\n",
       "      <th>hours-per-week</th>\n",
       "      <td>0.123597</td>\n",
       "      <td>-0.044174</td>\n",
       "      <td>-0.025750</td>\n",
       "      <td>0.167506</td>\n",
       "      <td>0.184981</td>\n",
       "      <td>0.168228</td>\n",
       "      <td>-0.102178</td>\n",
       "      <td>0.256986</td>\n",
       "      <td>0.059247</td>\n",
       "      <td>0.256384</td>\n",
       "      <td>0.098012</td>\n",
       "      <td>-0.036270</td>\n",
       "      <td>1.000000</td>\n",
       "      <td>-0.023037</td>\n",
       "      <td>0.271060</td>\n",
       "    </tr>\n",
       "    <tr>\n",
       "      <th>native-country</th>\n",
       "      <td>-0.020716</td>\n",
       "      <td>0.048667</td>\n",
       "      <td>0.081830</td>\n",
       "      <td>-0.071874</td>\n",
       "      <td>-0.095413</td>\n",
       "      <td>-0.027793</td>\n",
       "      <td>0.016641</td>\n",
       "      <td>-0.067054</td>\n",
       "      <td>-0.255463</td>\n",
       "      <td>0.001834</td>\n",
       "      <td>-0.011552</td>\n",
       "      <td>0.011744</td>\n",
       "      <td>-0.023037</td>\n",
       "      <td>1.000000</td>\n",
       "      <td>-0.038333</td>\n",
       "    </tr>\n",
       "    <tr>\n",
       "      <th>income</th>\n",
       "      <td>0.267808</td>\n",
       "      <td>-0.094714</td>\n",
       "      <td>-0.008412</td>\n",
       "      <td>0.331130</td>\n",
       "      <td>0.342365</td>\n",
       "      <td>0.311285</td>\n",
       "      <td>-0.245062</td>\n",
       "      <td>0.254312</td>\n",
       "      <td>0.067746</td>\n",
       "      <td>0.215954</td>\n",
       "      <td>0.253042</td>\n",
       "      <td>-0.085213</td>\n",
       "      <td>0.271060</td>\n",
       "      <td>-0.038333</td>\n",
       "      <td>1.000000</td>\n",
       "    </tr>\n",
       "  </tbody>\n",
       "</table>\n",
       "</div>"
      ],
      "text/plain": [
       "                     age  workclass    fnlwgt  education  education-num  \\\n",
       "age             1.000000  -0.154679 -0.071894   0.049699       0.053751   \n",
       "workclass      -0.154679   1.000000  0.032058  -0.173428      -0.168952   \n",
       "fnlwgt         -0.071894   0.032058  1.000000  -0.036262      -0.039788   \n",
       "education       0.049699  -0.173428 -0.036262   1.000000       0.931442   \n",
       "education-num   0.053751  -0.168952 -0.039788   0.931442       1.000000   \n",
       "marital-status -0.005728  -0.028970 -0.002164   0.100703       0.106195   \n",
       "occupation     -0.104713   0.118827  0.032779  -0.436878      -0.435099   \n",
       "relationship    0.227105  -0.052205 -0.017313   0.108422       0.114042   \n",
       "race            0.040487   0.012130  0.002658   0.032891       0.037412   \n",
       "sex             0.089543  -0.016926  0.028830   0.009796       0.015263   \n",
       "capital-gain    0.089001  -0.015219 -0.000148   0.146320       0.146186   \n",
       "capital-loss   -0.017860   0.012720 -0.000993  -0.040785      -0.043348   \n",
       "hours-per-week  0.123597  -0.044174 -0.025750   0.167506       0.184981   \n",
       "native-country -0.020716   0.048667  0.081830  -0.071874      -0.095413   \n",
       "income          0.267808  -0.094714 -0.008412   0.331130       0.342365   \n",
       "\n",
       "                marital-status  occupation  relationship      race       sex  \\\n",
       "age                  -0.005728   -0.104713      0.227105  0.040487  0.089543   \n",
       "workclass            -0.028970    0.118827     -0.052205  0.012130 -0.016926   \n",
       "fnlwgt               -0.002164    0.032779     -0.017313  0.002658  0.028830   \n",
       "education             0.100703   -0.436878      0.108422  0.032891  0.009796   \n",
       "education-num         0.106195   -0.435099      0.114042  0.037412  0.015263   \n",
       "marital-status        1.000000   -0.027935      0.411060  0.068935  0.408290   \n",
       "occupation           -0.027935    1.000000     -0.030457 -0.031391  0.097502   \n",
       "relationship          0.411060   -0.030457      1.000000  0.113941  0.553437   \n",
       "race                  0.068935   -0.031391      0.113941  1.000000  0.068014   \n",
       "sex                   0.408290    0.097502      0.553437  0.068014  1.000000   \n",
       "capital-gain          0.049709   -0.105419      0.050914  0.013133  0.044469   \n",
       "capital-loss         -0.070700    0.028197     -0.055567 -0.009202 -0.041696   \n",
       "hours-per-week        0.168228   -0.102178      0.256986  0.059247  0.256384   \n",
       "native-country       -0.027793    0.016641     -0.067054 -0.255463  0.001834   \n",
       "income                0.311285   -0.245062      0.254312  0.067746  0.215954   \n",
       "\n",
       "                capital-gain  capital-loss  hours-per-week  native-country  \\\n",
       "age                 0.089001     -0.017860        0.123597       -0.020716   \n",
       "workclass          -0.015219      0.012720       -0.044174        0.048667   \n",
       "fnlwgt             -0.000148     -0.000993       -0.025750        0.081830   \n",
       "education           0.146320     -0.040785        0.167506       -0.071874   \n",
       "education-num       0.146186     -0.043348        0.184981       -0.095413   \n",
       "marital-status      0.049709     -0.070700        0.168228       -0.027793   \n",
       "occupation         -0.105419      0.028197       -0.102178        0.016641   \n",
       "relationship        0.050914     -0.055567        0.256986       -0.067054   \n",
       "race                0.013133     -0.009202        0.059247       -0.255463   \n",
       "sex                 0.044469     -0.041696        0.256384        0.001834   \n",
       "capital-gain        1.000000      0.022110        0.098012       -0.011552   \n",
       "capital-loss        0.022110      1.000000       -0.036270        0.011744   \n",
       "hours-per-week      0.098012     -0.036270        1.000000       -0.023037   \n",
       "native-country     -0.011552      0.011744       -0.023037        1.000000   \n",
       "income              0.253042     -0.085213        0.271060       -0.038333   \n",
       "\n",
       "                  income  \n",
       "age             0.267808  \n",
       "workclass      -0.094714  \n",
       "fnlwgt         -0.008412  \n",
       "education       0.331130  \n",
       "education-num   0.342365  \n",
       "marital-status  0.311285  \n",
       "occupation     -0.245062  \n",
       "relationship    0.254312  \n",
       "race            0.067746  \n",
       "sex             0.215954  \n",
       "capital-gain    0.253042  \n",
       "capital-loss   -0.085213  \n",
       "hours-per-week  0.271060  \n",
       "native-country -0.038333  \n",
       "income          1.000000  "
      ]
     },
     "execution_count": 52,
     "metadata": {},
     "output_type": "execute_result"
    }
   ],
   "source": [
    "# calculate the correlation matrix\n",
    "corr = df.corr()\n",
    "corr"
   ]
  },
  {
   "cell_type": "code",
   "execution_count": 53,
   "metadata": {},
   "outputs": [
    {
     "data": {
      "text/plain": [
       "<Axes: >"
      ]
     },
     "execution_count": 53,
     "metadata": {},
     "output_type": "execute_result"
    },
    {
     "data": {
      "image/png": "[encoded data removed]",
      "text/plain": [
       "<Figure size 1200x600 with 2 Axes>"
      ]
     },
     "metadata": {},
     "output_type": "display_data"
    }
   ],
   "source": [
    "# plot the correlation matrix\n",
    "plt.figure(figsize = (12, 6))\n",
    "sns.heatmap(corr, annot = True, fmt = '.2f', cmap = 'coolwarm')"
   ]
  },
  {
   "cell_type": "markdown",
   "metadata": {},
   "source": [
    "The most informative features are `age`, `education`, `education-num`, `marital-status`, `relationship`, `sex`, `hours-per-week`. Because their correlation with `income` are significant higher than the other features's one in the dataset (with correlation of 0.267808, 0.331130, 0.342365, 0.311285, 0.254312, 0.215954, 0.271060 respectively)\n",
    "\n",
    "However, there is a high correlation between the following pairs of features:\n",
    "- `education` and `education-num` with correlation 0.931442\n",
    "- `relationship` and `sex` with correlation 0.553437\n",
    "- `marital-status` and `relationship` with correlation 0.411060\n",
    "\n",
    "So we will apply **High Correlation Filter** to address feature redundancy (referenced from [4]):\n",
    "1. Calculate correlation: compute the correlation matrix for the features.\n",
    "2. Set threshold: define a threshold to indentify highly correlated features.\n",
    "3. Identify correlated pairs: identify feature pairs with a correlation coefficient exceeding the threshold.\n",
    "4. Select features: from each correlated pair, retain the feature with higher predictive power and remove the other."
   ]
  },
  {
   "cell_type": "code",
   "execution_count": 54,
   "metadata": {},
   "outputs": [
    {
     "name": "stdout",
     "output_type": "stream",
     "text": [
      "Features to drop based on correlation thresholding: ['education-num', 'relationship', 'sex']\n"
     ]
    }
   ],
   "source": [
    "# copy the correlation matrix\n",
    "corr_matrix = corr\n",
    "\n",
    "# set the threshold\n",
    "threshold = 0.4\n",
    "\n",
    "# identify pairs of features with correlation greater than threshold\n",
    "upper_triangle = corr_matrix.where(np.triu(np.ones(corr_matrix.shape), k = 1).astype(bool))\n",
    "to_drop = [column for column in upper_triangle.columns if any(upper_triangle[column] > threshold)]\n",
    "\n",
    "# print the features to drop\n",
    "print(\"Features to drop based on correlation thresholding:\", to_drop)"
   ]
  },
  {
   "cell_type": "code",
   "execution_count": 55,
   "metadata": {},
   "outputs": [],
   "source": [
    "# remove the features with correlation greater than threshold\n",
    "df.drop(['education-num', 'relationship', 'sex'], axis = 1, inplace = True)"
   ]
  },
  {
   "cell_type": "markdown",
   "metadata": {},
   "source": [
    "Then we use **PCA** to analysis the principal component (referenced from [4]):\n",
    "1. Standardization: normalize the data so each feature contributes equally.\n",
    "2. Calculate covariance matrix: compute the matrix to know how the variables of the dataset deviate from the mean and to see if they are correlated.\n",
    "3. Find eigenvectors and eigenvalues: find the eigenvectors that maximize variance.\n",
    "4. Sort and ranking: sort eigenvectors by their ability to capture data variance, using eigenvalues as the metric of importance.\n",
    "5. Feature vector formation: select a subset of eigenvectors based on their rank to form a feature vector.\n",
    "6. Transformatiom: map the original data into selected principal components. This reduces the dimensionality of the data while preserving most of the information."
   ]
  },
  {
   "cell_type": "code",
   "execution_count": 56,
   "metadata": {},
   "outputs": [
    {
     "name": "stdout",
     "output_type": "stream",
     "text": [
      "Features with least influence for each component:\n",
      "Component 1: fnlwgt\n",
      "Component 2: age\n",
      "Component 3: race\n",
      "Component 4: marital-status\n",
      "Component 5: native-country\n",
      "Component 6: native-country\n",
      "Component 7: fnlwgt\n",
      "Component 8: education\n",
      "Component 9: education\n",
      "Component 10: marital-status\n",
      "Cumulative explained variance for each component: [0.18047089 0.28468941 0.38246635 0.47158745 0.55748911 0.63813264\n",
      " 0.71536394 0.78706969 0.85333462 0.9128647  0.95935522 1.        ]\n",
      "Number of components needed to retain 90.0% variance: 10\n"
     ]
    }
   ],
   "source": [
    "data = df.values\n",
    "variance_threshold = 0.9\n",
    "\n",
    "# standardize the Data\n",
    "data_centered = (data - np.mean(data, axis = 0)) / np.std(data, axis = 0)\n",
    "    \n",
    "# compute the Covariance Matrix\n",
    "covariance_matrix = np.cov(data_centered, rowvar = False)\n",
    "    \n",
    "# calculate eigenvalues and eigenvectors\n",
    "eigenvalues, eigenvectors = np.linalg.eigh(covariance_matrix)\n",
    "    \n",
    "# sort eigenvalues and eigenvectors in descending order\n",
    "sorted_indices = np.argsort(eigenvalues)[::-1]\n",
    "sorted_eigenvalues = eigenvalues[sorted_indices]\n",
    "sorted_eigenvectors = eigenvectors[:, sorted_indices]\n",
    "    \n",
    "# calculate explained variance ratio\n",
    "explained_variance_ratio = sorted_eigenvalues / np.sum(sorted_eigenvalues)\n",
    "    \n",
    "# calculate cumulative explained variance\n",
    "cumulative_variance = np.cumsum(explained_variance_ratio)\n",
    "   \n",
    "# find the number of components that meets the variance threshold\n",
    "num_components = np.argmax(cumulative_variance >= variance_threshold) + 1\n",
    "\n",
    "# select the top components\n",
    "selected_eigenvectors = sorted_eigenvectors[:, :num_components]\n",
    "\n",
    "# project data onto the selected eigenvectors\n",
    "reduced_data = np.dot(data_centered, selected_eigenvectors)\n",
    "\n",
    "# identify features with the least influence (lowest absolute values in eigenvectors)\n",
    "least_influential_features = np.argmin(np.abs(selected_eigenvectors), axis=0)\n",
    "print(\"Features with least influence for each component:\")\n",
    "for i, feature_index in enumerate(least_influential_features):\n",
    "    print(f\"Component {i + 1}: {df.columns[feature_index]}\")\n",
    "\n",
    "# print the results\n",
    "print(f\"Cumulative explained variance for each component: {cumulative_variance}\")\n",
    "print(f\"Number of components needed to retain {variance_threshold * 100}% variance: {num_components}\")\n"
   ]
  },
  {
   "cell_type": "markdown",
   "metadata": {},
   "source": [
    "In conclusion:\n",
    "- To retain 90% of information, we need at least 10 feautres. \n",
    "- Now we have 11 features left, so we will one more feature. That is `fnlwgt` because it is the least influence component."
   ]
  },
  {
   "cell_type": "code",
   "execution_count": 57,
   "metadata": {},
   "outputs": [],
   "source": [
    "# remove the least influential features\n",
    "df.drop('fnlwgt', axis = 1, inplace = True)"
   ]
  },
  {
   "cell_type": "markdown",
   "metadata": {},
   "source": [
    "Preprocessing is done and here is the final data:"
   ]
  },
  {
   "cell_type": "code",
   "execution_count": 58,
   "metadata": {},
   "outputs": [
    {
     "data": {
      "text/html": [
       "<div>\n",
       "<style scoped>\n",
       "    .dataframe tbody tr th:only-of-type {\n",
       "        vertical-align: middle;\n",
       "    }\n",
       "\n",
       "    .dataframe tbody tr th {\n",
       "        vertical-align: top;\n",
       "    }\n",
       "\n",
       "    .dataframe thead th {\n",
       "        text-align: right;\n",
       "    }\n",
       "</style>\n",
       "<table border=\"1\" class=\"dataframe\">\n",
       "  <thead>\n",
       "    <tr style=\"text-align: right;\">\n",
       "      <th></th>\n",
       "      <th>age</th>\n",
       "      <th>workclass</th>\n",
       "      <th>education</th>\n",
       "      <th>marital-status</th>\n",
       "      <th>occupation</th>\n",
       "      <th>race</th>\n",
       "      <th>capital-gain</th>\n",
       "      <th>capital-loss</th>\n",
       "      <th>hours-per-week</th>\n",
       "      <th>native-country</th>\n",
       "      <th>income</th>\n",
       "    </tr>\n",
       "  </thead>\n",
       "  <tbody>\n",
       "    <tr>\n",
       "      <th>0</th>\n",
       "      <td>1</td>\n",
       "      <td>0</td>\n",
       "      <td>5</td>\n",
       "      <td>5</td>\n",
       "      <td>1</td>\n",
       "      <td>4</td>\n",
       "      <td>0</td>\n",
       "      <td>1</td>\n",
       "      <td>0.375</td>\n",
       "      <td>0</td>\n",
       "      <td>0</td>\n",
       "    </tr>\n",
       "    <tr>\n",
       "      <th>1</th>\n",
       "      <td>2</td>\n",
       "      <td>1</td>\n",
       "      <td>5</td>\n",
       "      <td>6</td>\n",
       "      <td>0</td>\n",
       "      <td>4</td>\n",
       "      <td>0</td>\n",
       "      <td>1</td>\n",
       "      <td>0.000</td>\n",
       "      <td>0</td>\n",
       "      <td>0</td>\n",
       "    </tr>\n",
       "    <tr>\n",
       "      <th>2</th>\n",
       "      <td>1</td>\n",
       "      <td>2</td>\n",
       "      <td>2</td>\n",
       "      <td>4</td>\n",
       "      <td>2</td>\n",
       "      <td>4</td>\n",
       "      <td>0</td>\n",
       "      <td>1</td>\n",
       "      <td>0.375</td>\n",
       "      <td>0</td>\n",
       "      <td>0</td>\n",
       "    </tr>\n",
       "    <tr>\n",
       "      <th>3</th>\n",
       "      <td>2</td>\n",
       "      <td>2</td>\n",
       "      <td>1</td>\n",
       "      <td>6</td>\n",
       "      <td>2</td>\n",
       "      <td>3</td>\n",
       "      <td>0</td>\n",
       "      <td>1</td>\n",
       "      <td>0.375</td>\n",
       "      <td>0</td>\n",
       "      <td>0</td>\n",
       "    </tr>\n",
       "    <tr>\n",
       "      <th>4</th>\n",
       "      <td>0</td>\n",
       "      <td>2</td>\n",
       "      <td>5</td>\n",
       "      <td>6</td>\n",
       "      <td>0</td>\n",
       "      <td>3</td>\n",
       "      <td>0</td>\n",
       "      <td>1</td>\n",
       "      <td>0.375</td>\n",
       "      <td>1</td>\n",
       "      <td>0</td>\n",
       "    </tr>\n",
       "    <tr>\n",
       "      <th>...</th>\n",
       "      <td>...</td>\n",
       "      <td>...</td>\n",
       "      <td>...</td>\n",
       "      <td>...</td>\n",
       "      <td>...</td>\n",
       "      <td>...</td>\n",
       "      <td>...</td>\n",
       "      <td>...</td>\n",
       "      <td>...</td>\n",
       "      <td>...</td>\n",
       "      <td>...</td>\n",
       "    </tr>\n",
       "    <tr>\n",
       "      <th>32556</th>\n",
       "      <td>0</td>\n",
       "      <td>2</td>\n",
       "      <td>4</td>\n",
       "      <td>6</td>\n",
       "      <td>0</td>\n",
       "      <td>4</td>\n",
       "      <td>0</td>\n",
       "      <td>1</td>\n",
       "      <td>0.275</td>\n",
       "      <td>0</td>\n",
       "      <td>0</td>\n",
       "    </tr>\n",
       "    <tr>\n",
       "      <th>32557</th>\n",
       "      <td>1</td>\n",
       "      <td>2</td>\n",
       "      <td>2</td>\n",
       "      <td>6</td>\n",
       "      <td>1</td>\n",
       "      <td>4</td>\n",
       "      <td>0</td>\n",
       "      <td>1</td>\n",
       "      <td>0.375</td>\n",
       "      <td>0</td>\n",
       "      <td>1</td>\n",
       "    </tr>\n",
       "    <tr>\n",
       "      <th>32558</th>\n",
       "      <td>2</td>\n",
       "      <td>2</td>\n",
       "      <td>2</td>\n",
       "      <td>2</td>\n",
       "      <td>1</td>\n",
       "      <td>4</td>\n",
       "      <td>0</td>\n",
       "      <td>1</td>\n",
       "      <td>0.375</td>\n",
       "      <td>0</td>\n",
       "      <td>0</td>\n",
       "    </tr>\n",
       "    <tr>\n",
       "      <th>32559</th>\n",
       "      <td>0</td>\n",
       "      <td>2</td>\n",
       "      <td>2</td>\n",
       "      <td>5</td>\n",
       "      <td>1</td>\n",
       "      <td>4</td>\n",
       "      <td>0</td>\n",
       "      <td>1</td>\n",
       "      <td>0.000</td>\n",
       "      <td>0</td>\n",
       "      <td>0</td>\n",
       "    </tr>\n",
       "    <tr>\n",
       "      <th>32560</th>\n",
       "      <td>2</td>\n",
       "      <td>1</td>\n",
       "      <td>2</td>\n",
       "      <td>6</td>\n",
       "      <td>0</td>\n",
       "      <td>4</td>\n",
       "      <td>2</td>\n",
       "      <td>1</td>\n",
       "      <td>0.375</td>\n",
       "      <td>0</td>\n",
       "      <td>1</td>\n",
       "    </tr>\n",
       "  </tbody>\n",
       "</table>\n",
       "<p>32538 rows × 11 columns</p>\n",
       "</div>"
      ],
      "text/plain": [
       "      age  workclass  education  marital-status  occupation  race  \\\n",
       "0       1          0          5               5           1     4   \n",
       "1       2          1          5               6           0     4   \n",
       "2       1          2          2               4           2     4   \n",
       "3       2          2          1               6           2     3   \n",
       "4       0          2          5               6           0     3   \n",
       "...    ..        ...        ...             ...         ...   ...   \n",
       "32556   0          2          4               6           0     4   \n",
       "32557   1          2          2               6           1     4   \n",
       "32558   2          2          2               2           1     4   \n",
       "32559   0          2          2               5           1     4   \n",
       "32560   2          1          2               6           0     4   \n",
       "\n",
       "       capital-gain  capital-loss  hours-per-week  native-country  income  \n",
       "0                 0             1           0.375               0       0  \n",
       "1                 0             1           0.000               0       0  \n",
       "2                 0             1           0.375               0       0  \n",
       "3                 0             1           0.375               0       0  \n",
       "4                 0             1           0.375               1       0  \n",
       "...             ...           ...             ...             ...     ...  \n",
       "32556             0             1           0.275               0       0  \n",
       "32557             0             1           0.375               0       1  \n",
       "32558             0             1           0.375               0       0  \n",
       "32559             0             1           0.000               0       0  \n",
       "32560             2             1           0.375               0       1  \n",
       "\n",
       "[32538 rows x 11 columns]"
      ]
     },
     "execution_count": 58,
     "metadata": {},
     "output_type": "execute_result"
    }
   ],
   "source": [
    "# printe the first 5 rows of the dataset after preprocessing\n",
    "df"
   ]
  },
  {
   "cell_type": "markdown",
   "metadata": {},
   "source": [
    "# References"
   ]
  },
  {
   "cell_type": "markdown",
   "metadata": {},
   "source": [
    "[1]: \"Box-and-Whisker Plots\". *Varsity Tutors*, https://www.varsitytutors.com/hotmath/hotmath_help/topics/box-and-whisker-plots. Accessed date: 08/11/2024\n",
    "\n",
    "[2]: \"International standard classification of education\". https://www.researchgate.net/figure/The-classification-of-parental-education-derived-from-the-highest-level-of-education_tbl4_6687684. Accessed date: 08/11/2024\n",
    "\n",
    "[3]: \"International Standard Classification of Occupations\". *ILOSTAT*, https://ilostat.ilo.org/methods/concepts-and-definitions/classification-occupation/. Accessed date: 08/11/2024\n",
    "\n",
    "[4]: \"Top 12 Dimensionality Reduction Techniques for Machine Learning\". *ENCORD*, 2024. https://encord.com/blog/dimentionality-reduction-techniques-machine-learning/. Accessed date: 08/11/2024"
   ]
  }
 ],
 "metadata": {
  "kernelspec": {
   "display_name": "base",
   "language": "python",
   "name": "python3"
  },
  "language_info": {
   "codemirror_mode": {
    "name": "ipython",
    "version": 3
   },
   "file_extension": ".py",
   "mimetype": "text/x-python",
   "name": "python",
   "nbconvert_exporter": "python",
   "pygments_lexer": "ipython3",
   "version": "3.11.7"
  },
  "vscode": {
   "interpreter": {
    "hash": "3c06e3e46abf38078fe4dac36a0085ec2b134ebbd73dd076183d243eeca6918f"
   }
  }
 },
 "nbformat": 4,
 "nbformat_minor": 2
}
